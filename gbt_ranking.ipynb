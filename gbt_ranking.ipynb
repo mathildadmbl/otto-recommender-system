{
 "cells": [
  {
   "cell_type": "code",
   "execution_count": 17,
   "metadata": {},
   "outputs": [],
   "source": [
    "import pandas as pd \n",
    "import json\n",
    "import os\n",
    "import shutil\n",
    "import dask.dataframe as dd\n",
    "from dask.distributed import Client\n",
    "import joblib"
   ]
  },
  {
   "cell_type": "code",
   "execution_count": null,
   "metadata": {},
   "outputs": [
    {
     "name": "stderr",
     "output_type": "stream",
     "text": [
      "2025-03-20 11:15:10,540 - distributed.nanny.memory - WARNING - Worker tcp://127.0.0.1:61085 (pid=35268) exceeded 95% memory budget. Restarting...\n",
      "2025-03-20 11:15:10,609 - distributed.scheduler - WARNING - Removing worker 'tcp://127.0.0.1:61085' caused the cluster to lose already computed task(s), which will be recomputed elsewhere: {('read_parquet-7265a92d2b660bca046476525eb51c99', 0)} (stimulus_id='handle-worker-cleanup-1742465710.6086228')\n",
      "2025-03-20 11:15:11,279 - distributed.nanny - WARNING - Restarting worker\n",
      "2025-03-20 11:15:54,443 - distributed.nanny.memory - WARNING - Worker tcp://127.0.0.1:61080 (pid=29760) exceeded 95% memory budget. Restarting...\n",
      "2025-03-20 11:15:54,475 - distributed.scheduler - WARNING - Removing worker 'tcp://127.0.0.1:61080' caused the cluster to lose already computed task(s), which will be recomputed elsewhere: {('read_parquet-7265a92d2b660bca046476525eb51c99', 0)} (stimulus_id='handle-worker-cleanup-1742465754.4746459')\n",
      "2025-03-20 11:15:55,178 - distributed.nanny - WARNING - Restarting worker\n",
      "2025-03-20 11:16:30,649 - distributed.nanny.memory - WARNING - Worker tcp://127.0.0.1:61077 (pid=42100) exceeded 95% memory budget. Restarting...\n",
      "2025-03-20 11:16:30,759 - distributed.nanny.memory - WARNING - Worker tcp://127.0.0.1:61077 (pid=42100) is slow to terminate; trying again\n",
      "2025-03-20 11:16:30,767 - distributed.scheduler - WARNING - Removing worker 'tcp://127.0.0.1:61077' caused the cluster to lose already computed task(s), which will be recomputed elsewhere: {('read_parquet-7265a92d2b660bca046476525eb51c99', 0)} (stimulus_id='handle-worker-cleanup-1742465790.7667015')\n",
      "2025-03-20 11:16:31,408 - distributed.nanny - WARNING - Restarting worker\n",
      "2025-03-20 11:18:06,018 - distributed.nanny.memory - WARNING - Worker tcp://127.0.0.1:61090 (pid=48572) exceeded 95% memory budget. Restarting...\n",
      "2025-03-20 11:18:06,133 - distributed.scheduler - ERROR - Task ('explode-getitem-be68a887399e5e1eba86a2085c646cfc', 1) marked as failed because 4 workers died while trying to run it\n",
      "2025-03-20 11:18:06,136 - distributed.scheduler - WARNING - Removing worker 'tcp://127.0.0.1:61090' caused the cluster to lose already computed task(s), which will be recomputed elsewhere: {('read_parquet-7265a92d2b660bca046476525eb51c99', 0)} (stimulus_id='handle-worker-cleanup-1742465886.1219451')\n",
      "2025-03-20 11:18:06,787 - distributed.nanny - WARNING - Restarting worker\n",
      "Task exception was never retrieved\n",
      "future: <Task finished name='Task-72706' coro=<Client._gather.<locals>.wait() done, defined at c:\\Users\\eloua\\AppData\\Local\\Programs\\Python\\Python313\\Lib\\site-packages\\distributed\\client.py:2394> exception=AllExit()>\n",
      "Traceback (most recent call last):\n",
      "  File \"c:\\Users\\eloua\\AppData\\Local\\Programs\\Python\\Python313\\Lib\\site-packages\\distributed\\client.py\", line 2403, in wait\n",
      "    raise AllExit()\n",
      "distributed.client.AllExit\n",
      "2025-03-20 11:19:03,938 - distributed.nanny.memory - WARNING - Worker tcp://127.0.0.1:61134 (pid=43236) exceeded 95% memory budget. Restarting...\n",
      "2025-03-20 11:19:04,683 - distributed.nanny - WARNING - Restarting worker\n",
      "2025-03-20 11:20:08,222 - distributed.nanny.memory - WARNING - Worker tcp://127.0.0.1:61125 (pid=46412) exceeded 95% memory budget. Restarting...\n",
      "2025-03-20 11:20:08,255 - distributed.scheduler - WARNING - Removing worker 'tcp://127.0.0.1:61125' caused the cluster to lose already computed task(s), which will be recomputed elsewhere: {('read_parquet-7265a92d2b660bca046476525eb51c99', 0)} (stimulus_id='handle-worker-cleanup-1742466008.2551396')\n",
      "2025-03-20 11:20:08,894 - distributed.nanny - WARNING - Restarting worker\n",
      "2025-03-20 11:20:43,673 - distributed.nanny.memory - WARNING - Worker tcp://127.0.0.1:61428 (pid=44100) exceeded 95% memory budget. Restarting...\n",
      "2025-03-20 11:20:43,804 - distributed.scheduler - WARNING - Removing worker 'tcp://127.0.0.1:61428' caused the cluster to lose already computed task(s), which will be recomputed elsewhere: {('read_parquet-7265a92d2b660bca046476525eb51c99', 0)} (stimulus_id='handle-worker-cleanup-1742466043.8044267')\n",
      "2025-03-20 11:20:44,401 - distributed.nanny - WARNING - Restarting worker\n",
      "2025-03-20 11:21:21,438 - distributed.nanny.memory - WARNING - Worker tcp://127.0.0.1:61449 (pid=46916) exceeded 95% memory budget. Restarting...\n",
      "2025-03-20 11:21:21,465 - distributed.scheduler - WARNING - Removing worker 'tcp://127.0.0.1:61449' caused the cluster to lose already computed task(s), which will be recomputed elsewhere: {('read_parquet-7265a92d2b660bca046476525eb51c99', 0)} (stimulus_id='handle-worker-cleanup-1742466081.4648635')\n",
      "2025-03-20 11:21:22,071 - distributed.nanny - WARNING - Restarting worker\n",
      "2025-03-20 11:22:21,143 - distributed.nanny.memory - WARNING - Worker tcp://127.0.0.1:61459 (pid=13748) exceeded 95% memory budget. Restarting...\n",
      "2025-03-20 11:22:21,188 - distributed.scheduler - ERROR - Task ('explode-getitem-be68a887399e5e1eba86a2085c646cfc', 1) marked as failed because 4 workers died while trying to run it\n",
      "2025-03-20 11:22:21,189 - distributed.scheduler - WARNING - Removing worker 'tcp://127.0.0.1:61459' caused the cluster to lose already computed task(s), which will be recomputed elsewhere: {('read_parquet-7265a92d2b660bca046476525eb51c99', 0)} (stimulus_id='handle-worker-cleanup-1742466141.1860976')\n",
      "2025-03-20 11:22:21,805 - distributed.nanny - WARNING - Restarting worker\n"
     ]
    }
   ],
   "source": [
    "client = Client(memory_limit='2GB', memory_target_fraction=0.6, local_directory='/path/to/directory')"
   ]
  },
  {
   "cell_type": "markdown",
   "metadata": {},
   "source": [
    "# Chargement des data sets"
   ]
  },
  {
   "cell_type": "code",
   "execution_count": null,
   "metadata": {},
   "outputs": [
    {
     "name": "stdout",
     "output_type": "stream",
     "text": [
      "Nombre de partitions: 207\n"
     ]
    }
   ],
   "source": [
    "parquet_file = \"../data/final_output.parquet\"\n",
    "data = dd.read_parquet(parquet_file, blocksize='15MB')\n",
    "\n",
    "def get_first_n_percent(partition, rows_to_keep):\n",
    "    return partition.head(rows_to_keep) \n",
    "data = data.map_partitions(get_first_n_percent, rows_to_keep=20000)\n",
    "\n",
    "print(f\"Nombre de partitions: {data.npartitions}\")"
   ]
  },
  {
   "cell_type": "code",
   "execution_count": null,
   "metadata": {},
   "outputs": [],
   "source": [
    "test_file = \"../data/test.jsonl\"\n",
    "with open(test_file, \"r\", encoding=\"utf-8\") as f:\n",
    "    df = [json.loads(line) for line in f]\n",
    "flattened_data = []\n",
    "for record in df:\n",
    "    session_id = record[\"session\"]\n",
    "    for event in record[\"events\"]:\n",
    "        event[\"session\"] = session_id \n",
    "        flattened_data.append(event)\n",
    "\n",
    "test_df = pd.DataFrame(flattened_data)"
   ]
  },
  {
   "cell_type": "code",
   "execution_count": 4,
   "metadata": {},
   "outputs": [
    {
     "data": {
      "text/plain": [
       "(6928123, 4)"
      ]
     },
     "execution_count": 4,
     "metadata": {},
     "output_type": "execute_result"
    }
   ],
   "source": [
    "test_df.shape"
   ]
  },
  {
   "cell_type": "code",
   "execution_count": 7,
   "metadata": {},
   "outputs": [
    {
     "data": {
      "text/html": [
       "<div>\n",
       "<style scoped>\n",
       "    .dataframe tbody tr th:only-of-type {\n",
       "        vertical-align: middle;\n",
       "    }\n",
       "\n",
       "    .dataframe tbody tr th {\n",
       "        vertical-align: top;\n",
       "    }\n",
       "\n",
       "    .dataframe thead th {\n",
       "        text-align: right;\n",
       "    }\n",
       "</style>\n",
       "<table border=\"1\" class=\"dataframe\">\n",
       "  <thead>\n",
       "    <tr style=\"text-align: right;\">\n",
       "      <th></th>\n",
       "      <th>aid</th>\n",
       "      <th>ts</th>\n",
       "      <th>type</th>\n",
       "      <th>session</th>\n",
       "    </tr>\n",
       "  </thead>\n",
       "  <tbody>\n",
       "    <tr>\n",
       "      <th>0</th>\n",
       "      <td>59625</td>\n",
       "      <td>1661724000278</td>\n",
       "      <td>clicks</td>\n",
       "      <td>12899779</td>\n",
       "    </tr>\n",
       "    <tr>\n",
       "      <th>1</th>\n",
       "      <td>1142000</td>\n",
       "      <td>1661724000378</td>\n",
       "      <td>clicks</td>\n",
       "      <td>12899780</td>\n",
       "    </tr>\n",
       "    <tr>\n",
       "      <th>2</th>\n",
       "      <td>582732</td>\n",
       "      <td>1661724058352</td>\n",
       "      <td>clicks</td>\n",
       "      <td>12899780</td>\n",
       "    </tr>\n",
       "    <tr>\n",
       "      <th>3</th>\n",
       "      <td>973453</td>\n",
       "      <td>1661724109199</td>\n",
       "      <td>clicks</td>\n",
       "      <td>12899780</td>\n",
       "    </tr>\n",
       "    <tr>\n",
       "      <th>4</th>\n",
       "      <td>736515</td>\n",
       "      <td>1661724136868</td>\n",
       "      <td>clicks</td>\n",
       "      <td>12899780</td>\n",
       "    </tr>\n",
       "  </tbody>\n",
       "</table>\n",
       "</div>"
      ],
      "text/plain": [
       "       aid             ts    type   session\n",
       "0    59625  1661724000278  clicks  12899779\n",
       "1  1142000  1661724000378  clicks  12899780\n",
       "2   582732  1661724058352  clicks  12899780\n",
       "3   973453  1661724109199  clicks  12899780\n",
       "4   736515  1661724136868  clicks  12899780"
      ]
     },
     "execution_count": 7,
     "metadata": {},
     "output_type": "execute_result"
    }
   ],
   "source": [
    "test_df.head()"
   ]
  },
  {
   "cell_type": "code",
   "execution_count": 3,
   "metadata": {},
   "outputs": [],
   "source": [
    "parquet_file = \"../data/test_labels.parquet\"\n",
    "labels = dd.read_parquet(parquet_file)"
   ]
  },
  {
   "cell_type": "code",
   "execution_count": 11,
   "metadata": {},
   "outputs": [
    {
     "data": {
      "text/html": [
       "<div>\n",
       "<style scoped>\n",
       "    .dataframe tbody tr th:only-of-type {\n",
       "        vertical-align: middle;\n",
       "    }\n",
       "\n",
       "    .dataframe tbody tr th {\n",
       "        vertical-align: top;\n",
       "    }\n",
       "\n",
       "    .dataframe thead th {\n",
       "        text-align: right;\n",
       "    }\n",
       "</style>\n",
       "<table border=\"1\" class=\"dataframe\">\n",
       "  <thead>\n",
       "    <tr style=\"text-align: right;\">\n",
       "      <th></th>\n",
       "      <th>session</th>\n",
       "      <th>type</th>\n",
       "      <th>ground_truth</th>\n",
       "    </tr>\n",
       "  </thead>\n",
       "  <tbody>\n",
       "    <tr>\n",
       "      <th>2212687</th>\n",
       "      <td>12899774</td>\n",
       "      <td>clicks</td>\n",
       "      <td>[1399483]</td>\n",
       "    </tr>\n",
       "    <tr>\n",
       "      <th>2212688</th>\n",
       "      <td>12899775</td>\n",
       "      <td>clicks</td>\n",
       "      <td>[1760714]</td>\n",
       "    </tr>\n",
       "    <tr>\n",
       "      <th>2212689</th>\n",
       "      <td>12899776</td>\n",
       "      <td>clicks</td>\n",
       "      <td>[1737908]</td>\n",
       "    </tr>\n",
       "    <tr>\n",
       "      <th>2212690</th>\n",
       "      <td>12899777</td>\n",
       "      <td>clicks</td>\n",
       "      <td>[384045]</td>\n",
       "    </tr>\n",
       "    <tr>\n",
       "      <th>2212691</th>\n",
       "      <td>12899778</td>\n",
       "      <td>clicks</td>\n",
       "      <td>[32070]</td>\n",
       "    </tr>\n",
       "  </tbody>\n",
       "</table>\n",
       "</div>"
      ],
      "text/plain": [
       "          session    type ground_truth\n",
       "2212687  12899774  clicks    [1399483]\n",
       "2212688  12899775  clicks    [1760714]\n",
       "2212689  12899776  clicks    [1737908]\n",
       "2212690  12899777  clicks     [384045]\n",
       "2212691  12899778  clicks      [32070]"
      ]
     },
     "execution_count": 11,
     "metadata": {},
     "output_type": "execute_result"
    }
   ],
   "source": [
    "labels.tail()"
   ]
  },
  {
   "cell_type": "markdown",
   "metadata": {},
   "source": [
    "# Traitement des données"
   ]
  },
  {
   "cell_type": "code",
   "execution_count": 4,
   "metadata": {},
   "outputs": [],
   "source": [
    "def add_action_reverse(df):\n",
    "    df[\"action_reverse\"] = df.groupby(\"session\").cumcount()\n",
    "    df[\"action_reverse\"] = df.groupby(\"session\")[\"action_reverse\"].apply(lambda x: x.max() - x ).reset_index(drop=True) #, meta=('action_reverse', 'int32'))\n",
    "    return df\n",
    "\n",
    "def add_session_length(df):\n",
    "    df['session_length'] = df.groupby('session')['session'].transform('count') #, meta=('session_length', 'int32'))\n",
    "    return df\n",
    "\n",
    "def add_log_recency_score(df):\n",
    "    linear_interpolation = 0.1 + ((1 - 0.1) / (df['session_length'] - 1)) * (df['session_length'] - df['action_reverse'] - 1)\n",
    "    df['log_recency_score'] = (2 ** linear_interpolation) - 1\n",
    "    df['log_recency_score'] = df['log_recency_score'].fillna(1)\n",
    "    return df\n",
    "\n",
    "def add_type_weighted_log_recency_score(df):\n",
    "    type_weights = {0: 1, 1: 6, 2: 3}\n",
    "    df['type_weighted_log_recency_score'] = df['log_recency_score'] / df['type'].map(type_weights)\n",
    "    return df\n",
    "\n",
    "def apply_pipeline(df, pipeline):\n",
    "    if isinstance(df, (dd.DataFrame, pd.DataFrame)):\n",
    "        for f in pipeline:\n",
    "            df = f(df)\n",
    "        return df\n",
    "    else:\n",
    "        raise TypeError(\"Input doit être un DataFrame Pandas ou Dask DataFrame\")\n",
    "    \n",
    "def process_partition(partition):\n",
    "    type_mapping = {\n",
    "        'clicks': 0,\n",
    "        'carts': 1,\n",
    "        'orders': 2\n",
    "    }\n",
    "    partition['type'] = partition['type'].map(type_mapping)\n",
    "    partition['type'] = partition['type'].astype('int8')\n",
    "    partition = apply_pipeline(partition, pipeline)\n",
    "    expected_columns = ['session', 'action_reverse', 'session_length', 'log_recency_score', \n",
    "                        'type_weighted_log_recency_score', 'aid', 'ts', 'type']\n",
    "    missing_columns = [col for col in expected_columns if col not in partition.columns]\n",
    "    if missing_columns:\n",
    "        raise ValueError(f\"Colonnes manquantes après transformation: {missing_columns}\")\n",
    "    return partition[expected_columns] "
   ]
  },
  {
   "cell_type": "code",
   "execution_count": 5,
   "metadata": {},
   "outputs": [],
   "source": [
    "pipeline = [add_action_reverse, add_session_length, add_log_recency_score, add_type_weighted_log_recency_score]"
   ]
  },
  {
   "cell_type": "code",
   "execution_count": 6,
   "metadata": {},
   "outputs": [],
   "source": [
    "meta = {\n",
    "    'session': 'int32',\n",
    "    'action_reverse': 'int32',\n",
    "    'session_length': 'int32',\n",
    "    'log_recency_score': 'float32',\n",
    "    'type_weighted_log_recency_score': 'float32',\n",
    "    'aid': 'int32',\n",
    "    'ts': 'int32',\n",
    "    'type': 'int8'\n",
    "}"
   ]
  },
  {
   "cell_type": "code",
   "execution_count": 7,
   "metadata": {},
   "outputs": [],
   "source": [
    "df_processed = data.map_partitions(process_partition, meta=meta)"
   ]
  },
  {
   "cell_type": "code",
   "execution_count": null,
   "metadata": {},
   "outputs": [],
   "source": [
    "df_processed.to_parquet('dataframe.parquet', engine='pyarrow')"
   ]
  },
  {
   "cell_type": "code",
   "execution_count": 4,
   "metadata": {},
   "outputs": [],
   "source": [
    "train = dd.read_parquet('dataframe_1.parquet', blocksize='15MB')"
   ]
  },
  {
   "cell_type": "code",
   "execution_count": 9,
   "metadata": {},
   "outputs": [
    {
     "data": {
      "text/html": [
       "<div>\n",
       "<style scoped>\n",
       "    .dataframe tbody tr th:only-of-type {\n",
       "        vertical-align: middle;\n",
       "    }\n",
       "\n",
       "    .dataframe tbody tr th {\n",
       "        vertical-align: top;\n",
       "    }\n",
       "\n",
       "    .dataframe thead th {\n",
       "        text-align: right;\n",
       "    }\n",
       "</style>\n",
       "<table border=\"1\" class=\"dataframe\">\n",
       "  <thead>\n",
       "    <tr style=\"text-align: right;\">\n",
       "      <th></th>\n",
       "      <th>session</th>\n",
       "      <th>action_reverse</th>\n",
       "      <th>session_length</th>\n",
       "      <th>log_recency_score</th>\n",
       "      <th>type_weighted_log_recency_score</th>\n",
       "      <th>aid</th>\n",
       "      <th>ts</th>\n",
       "      <th>type</th>\n",
       "    </tr>\n",
       "  </thead>\n",
       "  <tbody>\n",
       "    <tr>\n",
       "      <th>19980</th>\n",
       "      <td>3747760</td>\n",
       "      <td>19</td>\n",
       "      <td>119</td>\n",
       "      <td>0.808865</td>\n",
       "      <td>0.808865</td>\n",
       "      <td>29735</td>\n",
       "      <td>1660758692329</td>\n",
       "      <td>0</td>\n",
       "    </tr>\n",
       "    <tr>\n",
       "      <th>19981</th>\n",
       "      <td>3747760</td>\n",
       "      <td>18</td>\n",
       "      <td>119</td>\n",
       "      <td>0.818453</td>\n",
       "      <td>0.136409</td>\n",
       "      <td>29735</td>\n",
       "      <td>1660758699999</td>\n",
       "      <td>1</td>\n",
       "    </tr>\n",
       "    <tr>\n",
       "      <th>19982</th>\n",
       "      <td>3747760</td>\n",
       "      <td>17</td>\n",
       "      <td>119</td>\n",
       "      <td>0.828092</td>\n",
       "      <td>0.828092</td>\n",
       "      <td>29735</td>\n",
       "      <td>1660758746118</td>\n",
       "      <td>0</td>\n",
       "    </tr>\n",
       "    <tr>\n",
       "      <th>19983</th>\n",
       "      <td>3747760</td>\n",
       "      <td>16</td>\n",
       "      <td>119</td>\n",
       "      <td>0.837783</td>\n",
       "      <td>0.837783</td>\n",
       "      <td>310546</td>\n",
       "      <td>1660758780780</td>\n",
       "      <td>0</td>\n",
       "    </tr>\n",
       "    <tr>\n",
       "      <th>19984</th>\n",
       "      <td>3747760</td>\n",
       "      <td>15</td>\n",
       "      <td>119</td>\n",
       "      <td>0.847524</td>\n",
       "      <td>0.141254</td>\n",
       "      <td>310546</td>\n",
       "      <td>1660758839293</td>\n",
       "      <td>1</td>\n",
       "    </tr>\n",
       "    <tr>\n",
       "      <th>19985</th>\n",
       "      <td>3747760</td>\n",
       "      <td>14</td>\n",
       "      <td>119</td>\n",
       "      <td>0.857317</td>\n",
       "      <td>0.857317</td>\n",
       "      <td>823143</td>\n",
       "      <td>1660759391052</td>\n",
       "      <td>0</td>\n",
       "    </tr>\n",
       "    <tr>\n",
       "      <th>19986</th>\n",
       "      <td>3747760</td>\n",
       "      <td>13</td>\n",
       "      <td>119</td>\n",
       "      <td>0.867162</td>\n",
       "      <td>0.144527</td>\n",
       "      <td>823143</td>\n",
       "      <td>1660759398244</td>\n",
       "      <td>1</td>\n",
       "    </tr>\n",
       "    <tr>\n",
       "      <th>19987</th>\n",
       "      <td>3747760</td>\n",
       "      <td>12</td>\n",
       "      <td>119</td>\n",
       "      <td>0.877060</td>\n",
       "      <td>0.877060</td>\n",
       "      <td>823143</td>\n",
       "      <td>1660759421569</td>\n",
       "      <td>0</td>\n",
       "    </tr>\n",
       "    <tr>\n",
       "      <th>19988</th>\n",
       "      <td>3747760</td>\n",
       "      <td>11</td>\n",
       "      <td>119</td>\n",
       "      <td>0.887010</td>\n",
       "      <td>0.887010</td>\n",
       "      <td>310546</td>\n",
       "      <td>1660759479681</td>\n",
       "      <td>0</td>\n",
       "    </tr>\n",
       "    <tr>\n",
       "      <th>19989</th>\n",
       "      <td>3747760</td>\n",
       "      <td>10</td>\n",
       "      <td>119</td>\n",
       "      <td>0.897012</td>\n",
       "      <td>0.897012</td>\n",
       "      <td>493104</td>\n",
       "      <td>1660859048661</td>\n",
       "      <td>0</td>\n",
       "    </tr>\n",
       "    <tr>\n",
       "      <th>19990</th>\n",
       "      <td>3747760</td>\n",
       "      <td>9</td>\n",
       "      <td>119</td>\n",
       "      <td>0.907068</td>\n",
       "      <td>0.151178</td>\n",
       "      <td>493104</td>\n",
       "      <td>1660859055289</td>\n",
       "      <td>1</td>\n",
       "    </tr>\n",
       "    <tr>\n",
       "      <th>19991</th>\n",
       "      <td>3747760</td>\n",
       "      <td>8</td>\n",
       "      <td>119</td>\n",
       "      <td>0.917176</td>\n",
       "      <td>0.917176</td>\n",
       "      <td>493104</td>\n",
       "      <td>1660859089163</td>\n",
       "      <td>0</td>\n",
       "    </tr>\n",
       "    <tr>\n",
       "      <th>19992</th>\n",
       "      <td>3747760</td>\n",
       "      <td>7</td>\n",
       "      <td>119</td>\n",
       "      <td>0.927339</td>\n",
       "      <td>0.927339</td>\n",
       "      <td>29735</td>\n",
       "      <td>1660859103178</td>\n",
       "      <td>0</td>\n",
       "    </tr>\n",
       "    <tr>\n",
       "      <th>19993</th>\n",
       "      <td>3747760</td>\n",
       "      <td>6</td>\n",
       "      <td>119</td>\n",
       "      <td>0.937555</td>\n",
       "      <td>0.156259</td>\n",
       "      <td>29735</td>\n",
       "      <td>1660859110334</td>\n",
       "      <td>1</td>\n",
       "    </tr>\n",
       "    <tr>\n",
       "      <th>19994</th>\n",
       "      <td>3747760</td>\n",
       "      <td>5</td>\n",
       "      <td>119</td>\n",
       "      <td>0.947825</td>\n",
       "      <td>0.315942</td>\n",
       "      <td>29735</td>\n",
       "      <td>1660859150386</td>\n",
       "      <td>2</td>\n",
       "    </tr>\n",
       "    <tr>\n",
       "      <th>19995</th>\n",
       "      <td>3747760</td>\n",
       "      <td>4</td>\n",
       "      <td>119</td>\n",
       "      <td>0.958150</td>\n",
       "      <td>0.958150</td>\n",
       "      <td>29735</td>\n",
       "      <td>1660859207339</td>\n",
       "      <td>0</td>\n",
       "    </tr>\n",
       "    <tr>\n",
       "      <th>19996</th>\n",
       "      <td>3747760</td>\n",
       "      <td>3</td>\n",
       "      <td>119</td>\n",
       "      <td>0.968530</td>\n",
       "      <td>0.161422</td>\n",
       "      <td>29735</td>\n",
       "      <td>1660859222698</td>\n",
       "      <td>1</td>\n",
       "    </tr>\n",
       "    <tr>\n",
       "      <th>19997</th>\n",
       "      <td>3747760</td>\n",
       "      <td>2</td>\n",
       "      <td>119</td>\n",
       "      <td>0.978965</td>\n",
       "      <td>0.978965</td>\n",
       "      <td>29735</td>\n",
       "      <td>1661187445585</td>\n",
       "      <td>0</td>\n",
       "    </tr>\n",
       "    <tr>\n",
       "      <th>19998</th>\n",
       "      <td>3747760</td>\n",
       "      <td>1</td>\n",
       "      <td>119</td>\n",
       "      <td>0.989454</td>\n",
       "      <td>0.164909</td>\n",
       "      <td>29735</td>\n",
       "      <td>1661187500843</td>\n",
       "      <td>1</td>\n",
       "    </tr>\n",
       "    <tr>\n",
       "      <th>19999</th>\n",
       "      <td>3747760</td>\n",
       "      <td>0</td>\n",
       "      <td>119</td>\n",
       "      <td>1.000000</td>\n",
       "      <td>1.000000</td>\n",
       "      <td>29735</td>\n",
       "      <td>1661187583074</td>\n",
       "      <td>0</td>\n",
       "    </tr>\n",
       "  </tbody>\n",
       "</table>\n",
       "</div>"
      ],
      "text/plain": [
       "       session  action_reverse  session_length  log_recency_score  \\\n",
       "19980  3747760              19             119           0.808865   \n",
       "19981  3747760              18             119           0.818453   \n",
       "19982  3747760              17             119           0.828092   \n",
       "19983  3747760              16             119           0.837783   \n",
       "19984  3747760              15             119           0.847524   \n",
       "19985  3747760              14             119           0.857317   \n",
       "19986  3747760              13             119           0.867162   \n",
       "19987  3747760              12             119           0.877060   \n",
       "19988  3747760              11             119           0.887010   \n",
       "19989  3747760              10             119           0.897012   \n",
       "19990  3747760               9             119           0.907068   \n",
       "19991  3747760               8             119           0.917176   \n",
       "19992  3747760               7             119           0.927339   \n",
       "19993  3747760               6             119           0.937555   \n",
       "19994  3747760               5             119           0.947825   \n",
       "19995  3747760               4             119           0.958150   \n",
       "19996  3747760               3             119           0.968530   \n",
       "19997  3747760               2             119           0.978965   \n",
       "19998  3747760               1             119           0.989454   \n",
       "19999  3747760               0             119           1.000000   \n",
       "\n",
       "       type_weighted_log_recency_score     aid             ts  type  \n",
       "19980                         0.808865   29735  1660758692329     0  \n",
       "19981                         0.136409   29735  1660758699999     1  \n",
       "19982                         0.828092   29735  1660758746118     0  \n",
       "19983                         0.837783  310546  1660758780780     0  \n",
       "19984                         0.141254  310546  1660758839293     1  \n",
       "19985                         0.857317  823143  1660759391052     0  \n",
       "19986                         0.144527  823143  1660759398244     1  \n",
       "19987                         0.877060  823143  1660759421569     0  \n",
       "19988                         0.887010  310546  1660759479681     0  \n",
       "19989                         0.897012  493104  1660859048661     0  \n",
       "19990                         0.151178  493104  1660859055289     1  \n",
       "19991                         0.917176  493104  1660859089163     0  \n",
       "19992                         0.927339   29735  1660859103178     0  \n",
       "19993                         0.156259   29735  1660859110334     1  \n",
       "19994                         0.315942   29735  1660859150386     2  \n",
       "19995                         0.958150   29735  1660859207339     0  \n",
       "19996                         0.161422   29735  1660859222698     1  \n",
       "19997                         0.978965   29735  1661187445585     0  \n",
       "19998                         0.164909   29735  1661187500843     1  \n",
       "19999                         1.000000   29735  1661187583074     0  "
      ]
     },
     "execution_count": 9,
     "metadata": {},
     "output_type": "execute_result"
    }
   ],
   "source": [
    "train.tail(20)"
   ]
  },
  {
   "cell_type": "markdown",
   "metadata": {},
   "source": [
    "# Ground truth"
   ]
  },
  {
   "cell_type": "code",
   "execution_count": 5,
   "metadata": {},
   "outputs": [
    {
     "name": "stderr",
     "output_type": "stream",
     "text": [
      "c:\\Users\\eloua\\AppData\\Local\\Programs\\Python\\Python313\\Lib\\site-packages\\dask\\dataframe\\dask_expr\\_collection.py:4208: UserWarning: \n",
      "You did not provide metadata, so Dask is running your function on a small dataset to guess output types. It is possible that Dask will guess incorrectly.\n",
      "To provide an explicit output types or to silence this message, please provide the `meta=` keyword, as described in the map or apply function that you are using.\n",
      "  Before: .apply(func)\n",
      "  After:  .apply(func, meta=('type', 'float64'))\n",
      "\n",
      "  warnings.warn(meta_warning(meta))\n",
      "c:\\Users\\eloua\\AppData\\Local\\Programs\\Python\\Python313\\Lib\\site-packages\\dask\\dataframe\\multi.py:169: UserWarning: Merging dataframes with merge column data type mismatches: \n",
      "+------------------------+------------+-------------+\n",
      "| Merge columns          | left dtype | right dtype |\n",
      "+------------------------+------------+-------------+\n",
      "| ('session', 'session') | int64      | int32       |\n",
      "| ('type', 'type')       | int8       | uint8       |\n",
      "| ('aid', 'aid')         | int64      | int32       |\n",
      "+------------------------+------------+-------------+\n",
      "Cast dtypes explicitly to avoid unexpected results.\n",
      "  warnings.warn(\n"
     ]
    }
   ],
   "source": [
    "type2id = {\"clicks\": 0, \"carts\": 1, \"orders\": 2}\n",
    "\n",
    "df_train_labels = labels.explode('ground_truth')\n",
    "\n",
    "df_train_labels['aid'] = df_train_labels['ground_truth']\n",
    "df_train_labels['type'] = df_train_labels['type'].map(type2id)\n",
    "df_train_labels = df_train_labels[['session', 'type', 'aid']]\n",
    "\n",
    "df_train_labels['session'] = df_train_labels['session'].astype('int32')\n",
    "df_train_labels['type'] = df_train_labels['type'].astype('uint8')\n",
    "df_train_labels['aid'] = df_train_labels['aid'].astype('int32')\n",
    "\n",
    "df_train_labels['gt'] = 1\n",
    "\n",
    "df_train = train.merge(df_train_labels, on=['session', 'type', 'aid'], how='left')\n",
    "\n",
    "df_train['gt'] = df_train['gt'].fillna(0).astype('uint8')\n",
    "\n",
    "#train.to_parquet('train_processed.parquet', write_index=False)"
   ]
  },
  {
   "cell_type": "code",
   "execution_count": 6,
   "metadata": {},
   "outputs": [
    {
     "data": {
      "text/html": [
       "<div>\n",
       "<style scoped>\n",
       "    .dataframe tbody tr th:only-of-type {\n",
       "        vertical-align: middle;\n",
       "    }\n",
       "\n",
       "    .dataframe tbody tr th {\n",
       "        vertical-align: top;\n",
       "    }\n",
       "\n",
       "    .dataframe thead th {\n",
       "        text-align: right;\n",
       "    }\n",
       "</style>\n",
       "<table border=\"1\" class=\"dataframe\">\n",
       "  <thead>\n",
       "    <tr style=\"text-align: right;\">\n",
       "      <th></th>\n",
       "      <th>session</th>\n",
       "      <th>action_reverse</th>\n",
       "      <th>session_length</th>\n",
       "      <th>log_recency_score</th>\n",
       "      <th>type_weighted_log_recency_score</th>\n",
       "      <th>aid</th>\n",
       "      <th>ts</th>\n",
       "      <th>type</th>\n",
       "      <th>gt</th>\n",
       "    </tr>\n",
       "  </thead>\n",
       "  <tbody>\n",
       "    <tr>\n",
       "      <th>0</th>\n",
       "      <td>5899776</td>\n",
       "      <td>3</td>\n",
       "      <td>4</td>\n",
       "      <td>0.071773</td>\n",
       "      <td>0.071773</td>\n",
       "      <td>1489275</td>\n",
       "      <td>1660039772288</td>\n",
       "      <td>0</td>\n",
       "      <td>0</td>\n",
       "    </tr>\n",
       "    <tr>\n",
       "      <th>1</th>\n",
       "      <td>5899776</td>\n",
       "      <td>2</td>\n",
       "      <td>4</td>\n",
       "      <td>0.319508</td>\n",
       "      <td>0.319508</td>\n",
       "      <td>1826552</td>\n",
       "      <td>1660043110728</td>\n",
       "      <td>0</td>\n",
       "      <td>0</td>\n",
       "    </tr>\n",
       "    <tr>\n",
       "      <th>2</th>\n",
       "      <td>5899776</td>\n",
       "      <td>1</td>\n",
       "      <td>4</td>\n",
       "      <td>0.624505</td>\n",
       "      <td>0.624505</td>\n",
       "      <td>1632206</td>\n",
       "      <td>1660048043858</td>\n",
       "      <td>0</td>\n",
       "      <td>0</td>\n",
       "    </tr>\n",
       "    <tr>\n",
       "      <th>3</th>\n",
       "      <td>5899776</td>\n",
       "      <td>0</td>\n",
       "      <td>4</td>\n",
       "      <td>1.000000</td>\n",
       "      <td>1.000000</td>\n",
       "      <td>1531634</td>\n",
       "      <td>1660048104470</td>\n",
       "      <td>0</td>\n",
       "      <td>0</td>\n",
       "    </tr>\n",
       "    <tr>\n",
       "      <th>4</th>\n",
       "      <td>5899777</td>\n",
       "      <td>1</td>\n",
       "      <td>2</td>\n",
       "      <td>0.071773</td>\n",
       "      <td>0.071773</td>\n",
       "      <td>1086210</td>\n",
       "      <td>1660039772327</td>\n",
       "      <td>0</td>\n",
       "      <td>0</td>\n",
       "    </tr>\n",
       "  </tbody>\n",
       "</table>\n",
       "</div>"
      ],
      "text/plain": [
       "   session  action_reverse  session_length  log_recency_score  \\\n",
       "0  5899776               3               4           0.071773   \n",
       "1  5899776               2               4           0.319508   \n",
       "2  5899776               1               4           0.624505   \n",
       "3  5899776               0               4           1.000000   \n",
       "4  5899777               1               2           0.071773   \n",
       "\n",
       "   type_weighted_log_recency_score      aid             ts  type  gt  \n",
       "0                         0.071773  1489275  1660039772288     0   0  \n",
       "1                         0.319508  1826552  1660043110728     0   0  \n",
       "2                         0.624505  1632206  1660048043858     0   0  \n",
       "3                         1.000000  1531634  1660048104470     0   0  \n",
       "4                         0.071773  1086210  1660039772327     0   0  "
      ]
     },
     "execution_count": 6,
     "metadata": {},
     "output_type": "execute_result"
    }
   ],
   "source": [
    "df_train.head()"
   ]
  },
  {
   "cell_type": "code",
   "execution_count": 7,
   "metadata": {},
   "outputs": [],
   "source": [
    "def get_session_lengths(df):\n",
    "    return df.groupby('session')['session'].count().compute().to_numpy()"
   ]
  },
  {
   "cell_type": "code",
   "execution_count": 8,
   "metadata": {},
   "outputs": [],
   "source": [
    "session_lengths_train = get_session_lengths(df_train)"
   ]
  },
  {
   "cell_type": "code",
   "execution_count": 13,
   "metadata": {},
   "outputs": [
    {
     "data": {
      "text/plain": [
       "array([10, 39, 34, ...,  3, 12, 50], shape=(239072,))"
      ]
     },
     "execution_count": 13,
     "metadata": {},
     "output_type": "execute_result"
    }
   ],
   "source": [
    "session_lengths_train"
   ]
  },
  {
   "cell_type": "markdown",
   "metadata": {},
   "source": [
    "# Model training"
   ]
  },
  {
   "cell_type": "code",
   "execution_count": 9,
   "metadata": {},
   "outputs": [],
   "source": [
    "from lightgbm.sklearn import LGBMRanker"
   ]
  },
  {
   "cell_type": "code",
   "execution_count": 10,
   "metadata": {},
   "outputs": [],
   "source": [
    "ranker = LGBMRanker(\n",
    "    objective=\"lambdarank\",\n",
    "    metric=\"ndcg\",\n",
    "    boosting_type=\"dart\",\n",
    "    n_estimators=20,\n",
    "    importance_type='gain',\n",
    ")"
   ]
  },
  {
   "cell_type": "code",
   "execution_count": 11,
   "metadata": {},
   "outputs": [],
   "source": [
    "feature_cols = ['aid', 'type', 'action_reverse', 'session_length', 'log_recency_score', 'type_weighted_log_recency_score']\n",
    "target = 'gt'"
   ]
  },
  {
   "cell_type": "code",
   "execution_count": 14,
   "metadata": {},
   "outputs": [],
   "source": [
    "df_train_pd = df_train[feature_cols].compute() \n",
    "target_pd = df_train[target].compute()"
   ]
  },
  {
   "cell_type": "code",
   "execution_count": 15,
   "metadata": {},
   "outputs": [
    {
     "name": "stdout",
     "output_type": "stream",
     "text": [
      "[LightGBM] [Info] Auto-choosing col-wise multi-threading, the overhead of testing was 0.336858 seconds.\n",
      "You can set `force_col_wise=true` to remove the overhead.\n",
      "[LightGBM] [Info] Total Bins 1278\n",
      "[LightGBM] [Info] Number of data points in the train set: 4140000, number of used features: 6\n"
     ]
    }
   ],
   "source": [
    "ranker = ranker.fit(\n",
    "    df_train_pd,\n",
    "    target_pd,\n",
    "    group=session_lengths_train,\n",
    ")"
   ]
  },
  {
   "cell_type": "code",
   "execution_count": 18,
   "metadata": {},
   "outputs": [
    {
     "data": {
      "text/plain": [
       "['lightgbm_ranker.pkl']"
      ]
     },
     "execution_count": 18,
     "metadata": {},
     "output_type": "execute_result"
    }
   ],
   "source": [
    "joblib.dump(ranker, \"lightgbm_ranker.pkl\")"
   ]
  },
  {
   "cell_type": "code",
   "execution_count": null,
   "metadata": {},
   "outputs": [],
   "source": [
    "ranker = joblib.load(\"lightgbm_ranker.pkl\")"
   ]
  }
 ],
 "metadata": {
  "kernelspec": {
   "display_name": "Python 3",
   "language": "python",
   "name": "python3"
  },
  "language_info": {
   "codemirror_mode": {
    "name": "ipython",
    "version": 3
   },
   "file_extension": ".py",
   "mimetype": "text/x-python",
   "name": "python",
   "nbconvert_exporter": "python",
   "pygments_lexer": "ipython3",
   "version": "3.13.2"
  }
 },
 "nbformat": 4,
 "nbformat_minor": 2
}
