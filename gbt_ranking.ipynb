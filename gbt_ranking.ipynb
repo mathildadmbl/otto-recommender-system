{
 "cells": [
  {
   "cell_type": "code",
   "execution_count": 14,
   "metadata": {},
   "outputs": [],
   "source": [
    "import pandas as pd \n",
    "import json\n",
    "import dask.dataframe as dd "
   ]
  },
  {
   "cell_type": "markdown",
   "metadata": {},
   "source": [
    "# Chargement des data sets"
   ]
  },
  {
   "cell_type": "code",
   "execution_count": 15,
   "metadata": {},
   "outputs": [],
   "source": [
    "parquet_file = \"../data/final_output.parquet\"\n",
    "data = dd.read_parquet(parquet_file)"
   ]
  },
  {
   "cell_type": "markdown",
   "metadata": {},
   "source": [
    "# Traitement des données"
   ]
  },
  {
   "cell_type": "code",
   "execution_count": 16,
   "metadata": {},
   "outputs": [],
   "source": [
    "def add_action_reverse(df):\n",
    "    df[\"action_reverse\"] = df.groupby(\"session\").cumcount()\n",
    "    df[\"action_reverse\"] = df.groupby(\"session\")[\"action_reverse\"].transform(lambda x: x.max() - x, meta=('action_reverse', 'int32'))\n",
    "    return df\n",
    "\n",
    "def add_session_length(df):\n",
    "    df['session_length'] = df.groupby('session')['session'].transform('count', meta=('session_length', 'int32'))\n",
    "    return df\n",
    "\n",
    "def add_log_recency_score(df):\n",
    "    linear_interpolation = 0.1 + ((1 - 0.1) / (df['session_length'] - 1)) * (df['session_length'] - df['action_reverse'] - 1)\n",
    "    df['log_recency_score'] = (2 ** linear_interpolation) - 1\n",
    "    df['log_recency_score'] = df['log_recency_score'].fillna(1)\n",
    "    return df\n",
    "\n",
    "def add_type_weighted_log_recency_score(df):\n",
    "    type_weights = {0: 1, 1: 6, 2: 3}\n",
    "    df['type_weighted_log_recency_score'] = df['log_recency_score'] / df['type'].map(type_weights)\n",
    "    return df\n",
    "\n",
    "def apply(df, pipeline):\n",
    "    if isinstance(df, (dd.DataFrame, pd.DataFrame)):\n",
    "        for f in pipeline:\n",
    "            df = f(df)\n",
    "        return df\n",
    "    else:\n",
    "        raise TypeError(\"Input doit être un DataFrame Pandas ou Dask DataFrame\")"
   ]
  },
  {
   "cell_type": "code",
   "execution_count": 18,
   "metadata": {},
   "outputs": [],
   "source": [
    "pipeline = [add_action_reverse, add_session_length, add_log_recency_score, add_type_weighted_log_recency_score]"
   ]
  },
  {
   "cell_type": "code",
   "execution_count": 19,
   "metadata": {},
   "outputs": [
    {
     "name": "stderr",
     "output_type": "stream",
     "text": [
      "c:\\Users\\eloua\\AppData\\Local\\Programs\\Python\\Python313\\Lib\\site-packages\\dask\\dataframe\\dask_expr\\_collection.py:4208: UserWarning: \n",
      "You did not provide metadata, so Dask is running your function on a small dataset to guess output types. It is possible that Dask will guess incorrectly.\n",
      "To provide an explicit output types or to silence this message, please provide the `meta=` keyword, as described in the map or apply function that you are using.\n",
      "  Before: .apply(func)\n",
      "  After:  .apply(func, meta=('type', 'float64'))\n",
      "\n",
      "  warnings.warn(meta_warning(meta))\n"
     ]
    }
   ],
   "source": [
    "df_train = apply(data, pipeline)"
   ]
  }
 ],
 "metadata": {
  "kernelspec": {
   "display_name": "Python 3",
   "language": "python",
   "name": "python3"
  },
  "language_info": {
   "codemirror_mode": {
    "name": "ipython",
    "version": 3
   },
   "file_extension": ".py",
   "mimetype": "text/x-python",
   "name": "python",
   "nbconvert_exporter": "python",
   "pygments_lexer": "ipython3",
   "version": "3.13.2"
  }
 },
 "nbformat": 4,
 "nbformat_minor": 2
}
