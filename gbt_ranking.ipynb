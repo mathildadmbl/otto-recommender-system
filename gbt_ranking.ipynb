{
 "cells": [
  {
   "cell_type": "code",
   "execution_count": 28,
   "metadata": {},
   "outputs": [],
   "source": [
    "import pandas as pd \n",
    "import json\n",
    "import os\n",
    "import shutil\n",
    "import dask.dataframe as dd\n",
    "from dask.distributed import Client"
   ]
  },
  {
   "cell_type": "code",
   "execution_count": 29,
   "metadata": {},
   "outputs": [
    {
     "name": "stderr",
     "output_type": "stream",
     "text": [
      "c:\\Users\\eloua\\AppData\\Local\\Programs\\Python\\Python313\\Lib\\site-packages\\distributed\\node.py:187: UserWarning: Port 8787 is already in use.\n",
      "Perhaps you already have a cluster running?\n",
      "Hosting the HTTP server on port 49866 instead\n",
      "  warnings.warn(\n"
     ]
    }
   ],
   "source": [
    "client = Client(memory_limit='2GB', memory_target_fraction=0.6, local_directory='/path/to/directory')"
   ]
  },
  {
   "cell_type": "markdown",
   "metadata": {},
   "source": [
    "# Chargement des data sets"
   ]
  },
  {
   "cell_type": "code",
   "execution_count": null,
   "metadata": {},
   "outputs": [],
   "source": [
    "parquet_file = \"../data/final_output.parquet\"\n",
    "data = dd.read_parquet(parquet_file, blocksize='25MB')\n",
    "# data = data.head(2000, compute=False) # pour tester"
   ]
  },
  {
   "cell_type": "markdown",
   "metadata": {},
   "source": [
    "# Traitement des données"
   ]
  },
  {
   "cell_type": "code",
   "execution_count": 31,
   "metadata": {},
   "outputs": [],
   "source": [
    "def add_action_reverse(df):\n",
    "    df[\"action_reverse\"] = df.groupby(\"session\").cumcount()\n",
    "    df[\"action_reverse\"] = df.groupby(\"session\")[\"action_reverse\"].apply(lambda x: x.max() - x ).reset_index(drop=True) #, meta=('action_reverse', 'int32'))\n",
    "    return df\n",
    "\n",
    "def add_session_length(df):\n",
    "    df['session_length'] = df.groupby('session')['session'].transform('count') #, meta=('session_length', 'int32'))\n",
    "    return df\n",
    "\n",
    "def add_log_recency_score(df):\n",
    "    linear_interpolation = 0.1 + ((1 - 0.1) / (df['session_length'] - 1)) * (df['session_length'] - df['action_reverse'] - 1)\n",
    "    df['log_recency_score'] = (2 ** linear_interpolation) - 1\n",
    "    df['log_recency_score'] = df['log_recency_score'].fillna(1)\n",
    "    return df\n",
    "\n",
    "def add_type_weighted_log_recency_score(df):\n",
    "    type_weights = {0: 1, 1: 6, 2: 3}\n",
    "    df['type_weighted_log_recency_score'] = df['log_recency_score'] / df['type'].map(type_weights)\n",
    "    return df\n",
    "\n",
    "def apply_pipeline(df, pipeline):\n",
    "    if isinstance(df, (dd.DataFrame, pd.DataFrame)):\n",
    "        for f in pipeline:\n",
    "            df = f(df)\n",
    "        return df\n",
    "    else:\n",
    "        raise TypeError(\"Input doit être un DataFrame Pandas ou Dask DataFrame\")\n",
    "    \n",
    "def process_partition(partition):\n",
    "    type_mapping = {\n",
    "        'clicks': 0,\n",
    "        'carts': 1,\n",
    "        'orders': 2\n",
    "    }\n",
    "    partition['type'] = partition['type'].map(type_mapping)\n",
    "    partition['type'] = partition['type'].astype('int8')\n",
    "    partition = apply_pipeline(partition, pipeline)\n",
    "    expected_columns = ['session', 'action_reverse', 'session_length', 'log_recency_score', \n",
    "                        'type_weighted_log_recency_score', 'aid', 'ts', 'type']\n",
    "    missing_columns = [col for col in expected_columns if col not in partition.columns]\n",
    "    if missing_columns:\n",
    "        raise ValueError(f\"Colonnes manquantes après transformation: {missing_columns}\")\n",
    "    return partition[expected_columns] "
   ]
  },
  {
   "cell_type": "code",
   "execution_count": 32,
   "metadata": {},
   "outputs": [],
   "source": [
    "pipeline = [add_action_reverse, add_session_length, add_log_recency_score, add_type_weighted_log_recency_score]"
   ]
  },
  {
   "cell_type": "code",
   "execution_count": 33,
   "metadata": {},
   "outputs": [],
   "source": [
    "meta = {\n",
    "    'session': 'int32',\n",
    "    'action_reverse': 'int32',\n",
    "    'session_length': 'int32',\n",
    "    'log_recency_score': 'float32',\n",
    "    'type_weighted_log_recency_score': 'float32',\n",
    "    'aid': 'int32',\n",
    "    'ts': 'int32',\n",
    "    'type': 'int8'\n",
    "}"
   ]
  },
  {
   "cell_type": "code",
   "execution_count": 34,
   "metadata": {},
   "outputs": [],
   "source": [
    "df_processed = data.map_partitions(process_partition, meta=meta)"
   ]
  },
  {
   "cell_type": "code",
   "execution_count": 35,
   "metadata": {},
   "outputs": [],
   "source": [
    "output = df_processed.compute()"
   ]
  },
  {
   "cell_type": "code",
   "execution_count": 36,
   "metadata": {},
   "outputs": [],
   "source": [
    "output.to_parquet('dataframe.parquet', engine='pyarrow')"
   ]
  },
  {
   "cell_type": "code",
   "execution_count": null,
   "metadata": {},
   "outputs": [
    {
     "data": {
      "text/plain": [
       "2000"
      ]
     },
     "execution_count": 41,
     "metadata": {},
     "output_type": "execute_result"
    }
   ],
   "source": [
    "data_2 = dd.read_parquet('dataframe.parquet')"
   ]
  }
 ],
 "metadata": {
  "kernelspec": {
   "display_name": "Python 3",
   "language": "python",
   "name": "python3"
  },
  "language_info": {
   "codemirror_mode": {
    "name": "ipython",
    "version": 3
   },
   "file_extension": ".py",
   "mimetype": "text/x-python",
   "name": "python",
   "nbconvert_exporter": "python",
   "pygments_lexer": "ipython3",
   "version": "3.13.2"
  }
 },
 "nbformat": 4,
 "nbformat_minor": 2
}
