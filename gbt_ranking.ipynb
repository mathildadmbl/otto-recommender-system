{
  "cells": [
    {
      "cell_type": "code",
      "execution_count": 1,
      "metadata": {
        "id": "LW5ony5qcgQo"
      },
      "outputs": [],
      "source": [
        "import pandas as pd\n",
        "import json\n",
        "import os\n",
        "import shutil\n",
        "import dask.dataframe as dd\n",
        "from dask.distributed import Client,default_client\n",
        "import joblib"
      ]
    },
    {
      "cell_type": "code",
      "execution_count": 2,
      "metadata": {
        "id": "24op7jpkcgQr"
      },
      "outputs": [],
      "source": [
        "# Arrêter les anciennes sessions et planificateurs\n",
        "try:\n",
        "    current_client = default_client()\n",
        "    current_client.close()  # Ferme toutes les connexions actives\n",
        "except ValueError:\n",
        "    pass  # Si aucune session n'est active, ignore cette erreur\n",
        "\n",
        "# Supprimer tous les fichiers temporaires et anciens clients\n",
        "import shutil\n",
        "import os\n",
        "\n",
        "# Supprimez les fichiers temporaires générés par Dask (comme les fichiers .dask-worker-space)\n",
        "dask_temp_dir = os.path.join(os.getcwd(), 'data/dask-scratch-space')\n",
        "if os.path.exists(dask_temp_dir):\n",
        "    shutil.rmtree(dask_temp_dir)  # Supprimer le dossier de l'espace de travail Dask\n",
        "\n"
      ]
    },
    {
      "cell_type": "code",
      "execution_count": 3,
      "metadata": {
        "colab": {
          "base_uri": "https://localhost:8080/"
        },
        "id": "j9PJ2L2qcgQt",
        "outputId": "531e6fa5-0717-4498-b3b6-4e65d5300a29"
      },
      "outputs": [],
      "source": [
        "client = Client(memory_limit='2GB', memory_target_fraction=0.6, local_directory='data')"
      ]
    },
    {
      "cell_type": "markdown",
      "metadata": {
        "id": "3KenROS7cgQu"
      },
      "source": [
        "# Chargement des data sets"
      ]
    },
    {
      "cell_type": "code",
      "execution_count": 22,
      "metadata": {
        "id": "3qe1n8bfcgQw",
        "outputId": "b33e94c4-607c-46e8-d986-fc941bf4ac08"
      },
      "outputs": [
        {
          "name": "stdout",
          "output_type": "stream",
          "text": [
            "Nombre de partitions: 207\n"
          ]
        }
      ],
      "source": [
        "parquet_file = \"../data/final_output.parquet\"\n",
        "data = dd.read_parquet(parquet_file, blocksize='15MB')\n",
        "\n",
        "def get_first_n_percent(partition, rows_to_keep):\n",
        "    return partition.head(rows_to_keep)\n",
        "data = data.map_partitions(get_first_n_percent, rows_to_keep=200000)\n",
        "\n",
        "print(f\"Nombre de partitions: {data.npartitions}\")"
      ]
    },
    {
      "cell_type": "code",
      "execution_count": null,
      "metadata": {
        "id": "bMz7lzdQcgQx",
        "outputId": "6c4b6a90-f59f-4be9-804f-681633d90010"
      },
      "outputs": [
        {
          "name": "stdout",
          "output_type": "stream",
          "text": [
            "Nombre de lignes dans le fichier Parquet: 216716096\n",
            "Nombre de colonnes dans le fichier Parquet: 4\n",
            "Partitionnement du fichier : 207\n"
          ]
        }
      ],
      "source": [
        "import pyarrow.parquet as pq\n",
        "\n",
        "# Charger le fichier Parquet avec pyarrow pour inspecter sa structure\n",
        "parquet_file_obj = pq.ParquetFile(parquet_file)\n",
        "print(f\"Nombre de lignes dans le fichier Parquet: {parquet_file_obj.metadata.num_rows}\")\n",
        "print(f\"Nombre de colonnes dans le fichier Parquet: {parquet_file_obj.metadata.num_columns}\")\n",
        "print(f\"Partitionnement du fichier : {parquet_file_obj.num_row_groups}\")\n"
      ]
    },
    {
      "cell_type": "code",
      "execution_count": 2,
      "metadata": {
        "id": "NAfaOgy6cgQx"
      },
      "outputs": [],
      "source": [
        "test_file = \"../data/test.jsonl\"\n",
        "with open(test_file, \"r\", encoding=\"utf-8\") as f:\n",
        "    df = [json.loads(line) for line in f]\n",
        "flattened_data = []\n",
        "for record in df:\n",
        "    session_id = record[\"session\"]\n",
        "    for event in record[\"events\"]:\n",
        "        event[\"session\"] = session_id\n",
        "        flattened_data.append(event)\n",
        "\n",
        "panda_df = pd.DataFrame(flattened_data)\n",
        "test_df = dd.from_pandas(panda_df, npartitions=300)"
      ]
    },
    {
      "cell_type": "code",
      "execution_count": null,
      "metadata": {
        "id": "qF4wGvQ1cgQy"
      },
      "outputs": [],
      "source": [
        "test_file = \"./data/test.jsonl\"\n",
        "with open(test_file, \"r\", encoding=\"utf-8\") as f:\n",
        "    df = [json.loads(line) for line in f]\n",
        "flattened_data = []\n",
        "for record in df:\n",
        "    session_id = record[\"session\"]\n",
        "    for event in record[\"events\"]:\n",
        "        event[\"session\"] = session_id\n",
        "        flattened_data.append(event)\n",
        "\n",
        "panda_df = pd.DataFrame(flattened_data)"
      ]
    },
    {
      "cell_type": "code",
      "execution_count": null,
      "metadata": {
        "id": "RahedfBpcgQy",
        "outputId": "b121a317-f29b-486a-bd1e-17e975af342b"
      },
      "outputs": [
        {
          "name": "stdout",
          "output_type": "stream",
          "text": [
            "<class 'pandas.core.frame.DataFrame'>\n",
            "RangeIndex: 6928123 entries, 0 to 6928122\n",
            "Data columns (total 4 columns):\n",
            " #   Column   Dtype \n",
            "---  ------   ----- \n",
            " 0   aid      int64 \n",
            " 1   ts       int64 \n",
            " 2   type     object\n",
            " 3   session  int64 \n",
            "dtypes: int64(3), object(1)\n",
            "memory usage: 211.4+ MB\n"
          ]
        }
      ],
      "source": [
        "panda_df.info()"
      ]
    },
    {
      "cell_type": "code",
      "execution_count": null,
      "metadata": {
        "id": "j2aXrIN4cgQz",
        "outputId": "14367118-cecd-4e42-f5b1-07fa6d8054df"
      },
      "outputs": [
        {
          "name": "stdout",
          "output_type": "stream",
          "text": [
            "Nombre de partitions: 1\n"
          ]
        }
      ],
      "source": [
        "parquet_file_test = \"./data/test_output.parquet\"\n",
        "data_test = dd.read_parquet(parquet_file, blocksize='15MB')\n",
        "\n",
        "def get_first_n_percent(partition, rows_to_keep):\n",
        "    return partition.head(rows_to_keep)\n",
        "data_test = data_test.map_partitions(get_first_n_percent, rows_to_keep=20000)\n",
        "\n",
        "print(f\"Nombre de partitions: {data_test.npartitions}\")"
      ]
    },
    {
      "cell_type": "code",
      "execution_count": null,
      "metadata": {
        "id": "rbI23t7qcgQ0",
        "outputId": "71c1365b-aaf0-4f64-db97-5fbaa78cd90b"
      },
      "outputs": [
        {
          "name": "stdout",
          "output_type": "stream",
          "text": [
            "Nombre de lignes dans le fichier Parquet: 6928123\n",
            "Nombre de colonnes dans le fichier Parquet: 4\n",
            "Partitionnement du fichier : 7\n"
          ]
        }
      ],
      "source": [
        "import pyarrow.parquet as pq\n",
        "\n",
        "# Charger le fichier Parquet avec pyarrow pour inspecter sa structure\n",
        "parquet_file_obj = pq.ParquetFile(parquet_file_test)\n",
        "print(f\"Nombre de lignes dans le fichier Parquet: {parquet_file_obj.metadata.num_rows}\")\n",
        "print(f\"Nombre de colonnes dans le fichier Parquet: {parquet_file_obj.metadata.num_columns}\")\n",
        "print(f\"Partitionnement du fichier : {parquet_file_obj.num_row_groups}\")\n"
      ]
    },
    {
      "cell_type": "code",
      "execution_count": null,
      "metadata": {
        "id": "G9Gg5NwVcgQ0",
        "outputId": "821ba7f3-67c9-41bc-acec-e9a81cbd886d"
      },
      "outputs": [
        {
          "data": {
            "text/html": [
              "<div>\n",
              "<style scoped>\n",
              "    .dataframe tbody tr th:only-of-type {\n",
              "        vertical-align: middle;\n",
              "    }\n",
              "\n",
              "    .dataframe tbody tr th {\n",
              "        vertical-align: top;\n",
              "    }\n",
              "\n",
              "    .dataframe thead th {\n",
              "        text-align: right;\n",
              "    }\n",
              "</style>\n",
              "<table border=\"1\" class=\"dataframe\">\n",
              "  <thead>\n",
              "    <tr style=\"text-align: right;\">\n",
              "      <th></th>\n",
              "      <th>aid</th>\n",
              "      <th>ts</th>\n",
              "      <th>type</th>\n",
              "      <th>session</th>\n",
              "    </tr>\n",
              "  </thead>\n",
              "  <tbody>\n",
              "    <tr>\n",
              "      <th>0</th>\n",
              "      <td>59625</td>\n",
              "      <td>1661724000278</td>\n",
              "      <td>clicks</td>\n",
              "      <td>12899779</td>\n",
              "    </tr>\n",
              "    <tr>\n",
              "      <th>1</th>\n",
              "      <td>1142000</td>\n",
              "      <td>1661724000378</td>\n",
              "      <td>clicks</td>\n",
              "      <td>12899780</td>\n",
              "    </tr>\n",
              "    <tr>\n",
              "      <th>2</th>\n",
              "      <td>582732</td>\n",
              "      <td>1661724058352</td>\n",
              "      <td>clicks</td>\n",
              "      <td>12899780</td>\n",
              "    </tr>\n",
              "    <tr>\n",
              "      <th>3</th>\n",
              "      <td>973453</td>\n",
              "      <td>1661724109199</td>\n",
              "      <td>clicks</td>\n",
              "      <td>12899780</td>\n",
              "    </tr>\n",
              "    <tr>\n",
              "      <th>4</th>\n",
              "      <td>736515</td>\n",
              "      <td>1661724136868</td>\n",
              "      <td>clicks</td>\n",
              "      <td>12899780</td>\n",
              "    </tr>\n",
              "    <tr>\n",
              "      <th>5</th>\n",
              "      <td>1142000</td>\n",
              "      <td>1661724155248</td>\n",
              "      <td>clicks</td>\n",
              "      <td>12899780</td>\n",
              "    </tr>\n",
              "    <tr>\n",
              "      <th>6</th>\n",
              "      <td>141736</td>\n",
              "      <td>1661724000559</td>\n",
              "      <td>clicks</td>\n",
              "      <td>12899781</td>\n",
              "    </tr>\n",
              "    <tr>\n",
              "      <th>7</th>\n",
              "      <td>199008</td>\n",
              "      <td>1661724022851</td>\n",
              "      <td>clicks</td>\n",
              "      <td>12899781</td>\n",
              "    </tr>\n",
              "    <tr>\n",
              "      <th>8</th>\n",
              "      <td>57315</td>\n",
              "      <td>1661724170835</td>\n",
              "      <td>clicks</td>\n",
              "      <td>12899781</td>\n",
              "    </tr>\n",
              "    <tr>\n",
              "      <th>9</th>\n",
              "      <td>194067</td>\n",
              "      <td>1661724246188</td>\n",
              "      <td>clicks</td>\n",
              "      <td>12899781</td>\n",
              "    </tr>\n",
              "  </tbody>\n",
              "</table>\n",
              "</div>"
            ],
            "text/plain": [
              "       aid             ts    type   session\n",
              "0    59625  1661724000278  clicks  12899779\n",
              "1  1142000  1661724000378  clicks  12899780\n",
              "2   582732  1661724058352  clicks  12899780\n",
              "3   973453  1661724109199  clicks  12899780\n",
              "4   736515  1661724136868  clicks  12899780\n",
              "5  1142000  1661724155248  clicks  12899780\n",
              "6   141736  1661724000559  clicks  12899781\n",
              "7   199008  1661724022851  clicks  12899781\n",
              "8    57315  1661724170835  clicks  12899781\n",
              "9   194067  1661724246188  clicks  12899781"
            ]
          },
          "execution_count": 28,
          "metadata": {},
          "output_type": "execute_result"
        }
      ],
      "source": [
        "data_test.head(10)"
      ]
    },
    {
      "cell_type": "code",
      "execution_count": 26,
      "metadata": {
        "id": "I3HY24HBcgQ1"
      },
      "outputs": [],
      "source": [
        "parquet_file = \"./test_labels.parquet\"\n",
        "labels = dd.read_parquet(parquet_file)"
      ]
    },
    {
      "cell_type": "code",
      "execution_count": 28,
      "metadata": {
        "id": "j6WkcHbpcgQ1",
        "outputId": "7ea7709a-181f-4f50-ac00-e167c80194f9"
      },
      "outputs": [
        {
          "data": {
            "text/plain": [
              "2212692"
            ]
          },
          "execution_count": 28,
          "metadata": {},
          "output_type": "execute_result"
        }
      ],
      "source": [
        "len(labels)"
      ]
    },
    {
      "cell_type": "markdown",
      "metadata": {
        "id": "dwQ07GXXcgQ2"
      },
      "source": [
        "# Traitement des données"
      ]
    },
    {
      "cell_type": "code",
      "execution_count": 3,
      "metadata": {
        "id": "la0NZ6dGcgQ2"
      },
      "outputs": [],
      "source": [
        "def add_action_reverse(df):\n",
        "    df[\"action_reverse\"] = df.groupby(\"session\").cumcount()\n",
        "    df[\"action_reverse\"] = df.groupby(\"session\")[\"action_reverse\"].apply(lambda x: x.max() - x ).reset_index(drop=True) #, meta=('action_reverse', 'int32'))\n",
        "    return df\n",
        "\n",
        "def add_session_length(df):\n",
        "    df['session_length'] = df.groupby('session')['session'].transform('count') #, meta=('session_length', 'int32'))\n",
        "    return df\n",
        "\n",
        "def add_log_recency_score(df):\n",
        "    linear_interpolation = 0.1 + ((1 - 0.1) / (df['session_length'] - 1)) * (df['session_length'] - df['action_reverse'] - 1)\n",
        "    df['log_recency_score'] = (2 ** linear_interpolation) - 1\n",
        "    df['log_recency_score'] = df['log_recency_score'].fillna(1)\n",
        "    return df\n",
        "\n",
        "def add_type_weighted_log_recency_score(df):\n",
        "    type_weights = {0: 1, 1: 6, 2: 3}\n",
        "    df['type_weighted_log_recency_score'] = df['log_recency_score'] / df['type'].map(type_weights)\n",
        "    return df\n",
        "\n",
        "def apply_pipeline(df, pipeline):\n",
        "    if isinstance(df, (dd.DataFrame, pd.DataFrame)):\n",
        "        for f in pipeline:\n",
        "            df = f(df)\n",
        "        return df\n",
        "    else:\n",
        "        raise TypeError(\"Input doit être un DataFrame Pandas ou Dask DataFrame\")\n",
        "\n",
        "def process_partition(partition):\n",
        "    type_mapping = {\n",
        "        'clicks': 0,\n",
        "        'carts': 1,\n",
        "        'orders': 2\n",
        "    }\n",
        "    partition['type'] = partition['type'].map(type_mapping).astype('int8')\n",
        "    partition['ts'] = partition['ts'].astype('int64')\n",
        "\n",
        "    partition = apply_pipeline(partition, pipeline)\n",
        "    partition = partition.fillna(0)\n",
        "    partition = partition.astype({\n",
        "        'session': 'int32',\n",
        "        'action_reverse': 'int32',\n",
        "        'session_length': 'int32',\n",
        "        'log_recency_score': 'float32',\n",
        "        'type_weighted_log_recency_score': 'float32',\n",
        "        'aid': 'int32',\n",
        "        'ts': 'int64',\n",
        "        'type': 'int8'\n",
        "    })\n",
        "\n",
        "    expected_columns = ['session', 'action_reverse', 'session_length', 'log_recency_score',\n",
        "                        'type_weighted_log_recency_score', 'aid', 'ts', 'type']\n",
        "\n",
        "    missing_columns = [col for col in expected_columns if col not in partition.columns]\n",
        "    if missing_columns:\n",
        "        raise ValueError(f\"Colonnes manquantes après transformation: {missing_columns}\")\n",
        "\n",
        "    return partition[expected_columns]"
      ]
    },
    {
      "cell_type": "code",
      "execution_count": 4,
      "metadata": {
        "id": "R_RSUUpLcgQ3"
      },
      "outputs": [],
      "source": [
        "pipeline = [add_action_reverse, add_session_length, add_log_recency_score, add_type_weighted_log_recency_score]"
      ]
    },
    {
      "cell_type": "code",
      "execution_count": 5,
      "metadata": {
        "id": "AU90YGS9cgQ4"
      },
      "outputs": [],
      "source": [
        "meta = {\n",
        "    'session': 'int32',\n",
        "    'action_reverse': 'int32',\n",
        "    'session_length': 'int32',\n",
        "    'log_recency_score': 'float32',\n",
        "    'type_weighted_log_recency_score': 'float32',\n",
        "    'aid': 'int32',\n",
        "    'ts': 'int64',\n",
        "    'type': 'int8'\n",
        "}"
      ]
    },
    {
      "cell_type": "code",
      "execution_count": 23,
      "metadata": {
        "id": "xVUBxXnMcgQ4"
      },
      "outputs": [],
      "source": [
        "df_processed = data.map_partitions(process_partition, meta=meta)"
      ]
    },
    {
      "cell_type": "code",
      "execution_count": 6,
      "metadata": {
        "id": "0ReorMRadnHU"
      },
      "outputs": [],
      "source": [
        "test_processed = test_df.map_partitions(process_partition, meta=meta)"
      ]
    },
    {
      "cell_type": "code",
      "execution_count": 7,
      "metadata": {
        "colab": {
          "base_uri": "https://localhost:8080/",
          "height": 287
        },
        "id": "dRwybKsGd7-B",
        "outputId": "0c827916-00bb-46d4-cb86-caed2748747d"
      },
      "outputs": [],
      "source": [
        "test_processed.to_parquet('final_testset.parquet', engine='pyarrow')"
      ]
    },
    {
      "cell_type": "code",
      "execution_count": 24,
      "metadata": {
        "id": "dqLfj4XScgQ5"
      },
      "outputs": [],
      "source": [
        "df_processed.to_parquet('dataframe_4.parquet', engine='pyarrow')"
      ]
    },
    {
      "cell_type": "code",
      "execution_count": 25,
      "metadata": {},
      "outputs": [
        {
          "data": {
            "text/plain": [
              "41400000"
            ]
          },
          "execution_count": 25,
          "metadata": {},
          "output_type": "execute_result"
        }
      ],
      "source": [
        "train = dd.read_parquet('dataframe_4.parquet', blocksize='15MB')\n",
        "len(train)"
      ]
    },
    {
      "cell_type": "code",
      "execution_count": null,
      "metadata": {
        "id": "nI7ciCyUcgQ5"
      },
      "outputs": [],
      "source": [
        "train = dd.read_parquet('dataframe_1.parquet', blocksize='15MB')"
      ]
    },
    {
      "cell_type": "code",
      "execution_count": 8,
      "metadata": {},
      "outputs": [
        {
          "data": {
            "text/html": [
              "<div>\n",
              "<style scoped>\n",
              "    .dataframe tbody tr th:only-of-type {\n",
              "        vertical-align: middle;\n",
              "    }\n",
              "\n",
              "    .dataframe tbody tr th {\n",
              "        vertical-align: top;\n",
              "    }\n",
              "\n",
              "    .dataframe thead th {\n",
              "        text-align: right;\n",
              "    }\n",
              "</style>\n",
              "<table border=\"1\" class=\"dataframe\">\n",
              "  <thead>\n",
              "    <tr style=\"text-align: right;\">\n",
              "      <th></th>\n",
              "      <th>session</th>\n",
              "      <th>action_reverse</th>\n",
              "      <th>session_length</th>\n",
              "      <th>log_recency_score</th>\n",
              "      <th>type_weighted_log_recency_score</th>\n",
              "      <th>aid</th>\n",
              "      <th>ts</th>\n",
              "      <th>type</th>\n",
              "    </tr>\n",
              "  </thead>\n",
              "  <tbody>\n",
              "    <tr>\n",
              "      <th>0</th>\n",
              "      <td>12899779</td>\n",
              "      <td>0</td>\n",
              "      <td>1</td>\n",
              "      <td>1.000000</td>\n",
              "      <td>1.000000</td>\n",
              "      <td>59625</td>\n",
              "      <td>1661724000278</td>\n",
              "      <td>0</td>\n",
              "    </tr>\n",
              "    <tr>\n",
              "      <th>1</th>\n",
              "      <td>12899780</td>\n",
              "      <td>4</td>\n",
              "      <td>5</td>\n",
              "      <td>0.071773</td>\n",
              "      <td>0.071773</td>\n",
              "      <td>1142000</td>\n",
              "      <td>1661724000378</td>\n",
              "      <td>0</td>\n",
              "    </tr>\n",
              "    <tr>\n",
              "      <th>2</th>\n",
              "      <td>12899780</td>\n",
              "      <td>3</td>\n",
              "      <td>5</td>\n",
              "      <td>0.252664</td>\n",
              "      <td>0.252664</td>\n",
              "      <td>582732</td>\n",
              "      <td>1661724058352</td>\n",
              "      <td>0</td>\n",
              "    </tr>\n",
              "    <tr>\n",
              "      <th>3</th>\n",
              "      <td>12899780</td>\n",
              "      <td>2</td>\n",
              "      <td>5</td>\n",
              "      <td>0.464086</td>\n",
              "      <td>0.464086</td>\n",
              "      <td>973453</td>\n",
              "      <td>1661724109199</td>\n",
              "      <td>0</td>\n",
              "    </tr>\n",
              "    <tr>\n",
              "      <th>4</th>\n",
              "      <td>12899780</td>\n",
              "      <td>1</td>\n",
              "      <td>5</td>\n",
              "      <td>0.711190</td>\n",
              "      <td>0.711190</td>\n",
              "      <td>736515</td>\n",
              "      <td>1661724136868</td>\n",
              "      <td>0</td>\n",
              "    </tr>\n",
              "  </tbody>\n",
              "</table>\n",
              "</div>"
            ],
            "text/plain": [
              "    session  action_reverse  session_length  log_recency_score  \\\n",
              "0  12899779               0               1           1.000000   \n",
              "1  12899780               4               5           0.071773   \n",
              "2  12899780               3               5           0.252664   \n",
              "3  12899780               2               5           0.464086   \n",
              "4  12899780               1               5           0.711190   \n",
              "\n",
              "   type_weighted_log_recency_score      aid             ts  type  \n",
              "0                         1.000000    59625  1661724000278     0  \n",
              "1                         0.071773  1142000  1661724000378     0  \n",
              "2                         0.252664   582732  1661724058352     0  \n",
              "3                         0.464086   973453  1661724109199     0  \n",
              "4                         0.711190   736515  1661724136868     0  "
            ]
          },
          "execution_count": 8,
          "metadata": {},
          "output_type": "execute_result"
        }
      ],
      "source": [
        "test = dd.read_parquet('final_testset.parquet', blocksize='15MB')\n",
        "test.head()"
      ]
    },
    {
      "cell_type": "code",
      "execution_count": null,
      "metadata": {
        "id": "qZQwHFf_cgQ5",
        "outputId": "b0746028-bdcc-4446-d612-5cdac9f586b2"
      },
      "outputs": [
        {
          "data": {
            "text/html": [
              "<div>\n",
              "<style scoped>\n",
              "    .dataframe tbody tr th:only-of-type {\n",
              "        vertical-align: middle;\n",
              "    }\n",
              "\n",
              "    .dataframe tbody tr th {\n",
              "        vertical-align: top;\n",
              "    }\n",
              "\n",
              "    .dataframe thead th {\n",
              "        text-align: right;\n",
              "    }\n",
              "</style>\n",
              "<table border=\"1\" class=\"dataframe\">\n",
              "  <thead>\n",
              "    <tr style=\"text-align: right;\">\n",
              "      <th></th>\n",
              "      <th>session</th>\n",
              "      <th>action_reverse</th>\n",
              "      <th>session_length</th>\n",
              "      <th>log_recency_score</th>\n",
              "      <th>type_weighted_log_recency_score</th>\n",
              "      <th>aid</th>\n",
              "      <th>ts</th>\n",
              "      <th>type</th>\n",
              "    </tr>\n",
              "  </thead>\n",
              "  <tbody>\n",
              "    <tr>\n",
              "      <th>19980</th>\n",
              "      <td>3747760</td>\n",
              "      <td>19</td>\n",
              "      <td>119</td>\n",
              "      <td>0.808865</td>\n",
              "      <td>0.808865</td>\n",
              "      <td>29735</td>\n",
              "      <td>1660758692329</td>\n",
              "      <td>0</td>\n",
              "    </tr>\n",
              "    <tr>\n",
              "      <th>19981</th>\n",
              "      <td>3747760</td>\n",
              "      <td>18</td>\n",
              "      <td>119</td>\n",
              "      <td>0.818453</td>\n",
              "      <td>0.136409</td>\n",
              "      <td>29735</td>\n",
              "      <td>1660758699999</td>\n",
              "      <td>1</td>\n",
              "    </tr>\n",
              "    <tr>\n",
              "      <th>19982</th>\n",
              "      <td>3747760</td>\n",
              "      <td>17</td>\n",
              "      <td>119</td>\n",
              "      <td>0.828092</td>\n",
              "      <td>0.828092</td>\n",
              "      <td>29735</td>\n",
              "      <td>1660758746118</td>\n",
              "      <td>0</td>\n",
              "    </tr>\n",
              "    <tr>\n",
              "      <th>19983</th>\n",
              "      <td>3747760</td>\n",
              "      <td>16</td>\n",
              "      <td>119</td>\n",
              "      <td>0.837783</td>\n",
              "      <td>0.837783</td>\n",
              "      <td>310546</td>\n",
              "      <td>1660758780780</td>\n",
              "      <td>0</td>\n",
              "    </tr>\n",
              "    <tr>\n",
              "      <th>19984</th>\n",
              "      <td>3747760</td>\n",
              "      <td>15</td>\n",
              "      <td>119</td>\n",
              "      <td>0.847524</td>\n",
              "      <td>0.141254</td>\n",
              "      <td>310546</td>\n",
              "      <td>1660758839293</td>\n",
              "      <td>1</td>\n",
              "    </tr>\n",
              "    <tr>\n",
              "      <th>19985</th>\n",
              "      <td>3747760</td>\n",
              "      <td>14</td>\n",
              "      <td>119</td>\n",
              "      <td>0.857317</td>\n",
              "      <td>0.857317</td>\n",
              "      <td>823143</td>\n",
              "      <td>1660759391052</td>\n",
              "      <td>0</td>\n",
              "    </tr>\n",
              "    <tr>\n",
              "      <th>19986</th>\n",
              "      <td>3747760</td>\n",
              "      <td>13</td>\n",
              "      <td>119</td>\n",
              "      <td>0.867162</td>\n",
              "      <td>0.144527</td>\n",
              "      <td>823143</td>\n",
              "      <td>1660759398244</td>\n",
              "      <td>1</td>\n",
              "    </tr>\n",
              "    <tr>\n",
              "      <th>19987</th>\n",
              "      <td>3747760</td>\n",
              "      <td>12</td>\n",
              "      <td>119</td>\n",
              "      <td>0.877060</td>\n",
              "      <td>0.877060</td>\n",
              "      <td>823143</td>\n",
              "      <td>1660759421569</td>\n",
              "      <td>0</td>\n",
              "    </tr>\n",
              "    <tr>\n",
              "      <th>19988</th>\n",
              "      <td>3747760</td>\n",
              "      <td>11</td>\n",
              "      <td>119</td>\n",
              "      <td>0.887010</td>\n",
              "      <td>0.887010</td>\n",
              "      <td>310546</td>\n",
              "      <td>1660759479681</td>\n",
              "      <td>0</td>\n",
              "    </tr>\n",
              "    <tr>\n",
              "      <th>19989</th>\n",
              "      <td>3747760</td>\n",
              "      <td>10</td>\n",
              "      <td>119</td>\n",
              "      <td>0.897012</td>\n",
              "      <td>0.897012</td>\n",
              "      <td>493104</td>\n",
              "      <td>1660859048661</td>\n",
              "      <td>0</td>\n",
              "    </tr>\n",
              "    <tr>\n",
              "      <th>19990</th>\n",
              "      <td>3747760</td>\n",
              "      <td>9</td>\n",
              "      <td>119</td>\n",
              "      <td>0.907068</td>\n",
              "      <td>0.151178</td>\n",
              "      <td>493104</td>\n",
              "      <td>1660859055289</td>\n",
              "      <td>1</td>\n",
              "    </tr>\n",
              "    <tr>\n",
              "      <th>19991</th>\n",
              "      <td>3747760</td>\n",
              "      <td>8</td>\n",
              "      <td>119</td>\n",
              "      <td>0.917176</td>\n",
              "      <td>0.917176</td>\n",
              "      <td>493104</td>\n",
              "      <td>1660859089163</td>\n",
              "      <td>0</td>\n",
              "    </tr>\n",
              "    <tr>\n",
              "      <th>19992</th>\n",
              "      <td>3747760</td>\n",
              "      <td>7</td>\n",
              "      <td>119</td>\n",
              "      <td>0.927339</td>\n",
              "      <td>0.927339</td>\n",
              "      <td>29735</td>\n",
              "      <td>1660859103178</td>\n",
              "      <td>0</td>\n",
              "    </tr>\n",
              "    <tr>\n",
              "      <th>19993</th>\n",
              "      <td>3747760</td>\n",
              "      <td>6</td>\n",
              "      <td>119</td>\n",
              "      <td>0.937555</td>\n",
              "      <td>0.156259</td>\n",
              "      <td>29735</td>\n",
              "      <td>1660859110334</td>\n",
              "      <td>1</td>\n",
              "    </tr>\n",
              "    <tr>\n",
              "      <th>19994</th>\n",
              "      <td>3747760</td>\n",
              "      <td>5</td>\n",
              "      <td>119</td>\n",
              "      <td>0.947825</td>\n",
              "      <td>0.315942</td>\n",
              "      <td>29735</td>\n",
              "      <td>1660859150386</td>\n",
              "      <td>2</td>\n",
              "    </tr>\n",
              "    <tr>\n",
              "      <th>19995</th>\n",
              "      <td>3747760</td>\n",
              "      <td>4</td>\n",
              "      <td>119</td>\n",
              "      <td>0.958150</td>\n",
              "      <td>0.958150</td>\n",
              "      <td>29735</td>\n",
              "      <td>1660859207339</td>\n",
              "      <td>0</td>\n",
              "    </tr>\n",
              "    <tr>\n",
              "      <th>19996</th>\n",
              "      <td>3747760</td>\n",
              "      <td>3</td>\n",
              "      <td>119</td>\n",
              "      <td>0.968530</td>\n",
              "      <td>0.161422</td>\n",
              "      <td>29735</td>\n",
              "      <td>1660859222698</td>\n",
              "      <td>1</td>\n",
              "    </tr>\n",
              "    <tr>\n",
              "      <th>19997</th>\n",
              "      <td>3747760</td>\n",
              "      <td>2</td>\n",
              "      <td>119</td>\n",
              "      <td>0.978965</td>\n",
              "      <td>0.978965</td>\n",
              "      <td>29735</td>\n",
              "      <td>1661187445585</td>\n",
              "      <td>0</td>\n",
              "    </tr>\n",
              "    <tr>\n",
              "      <th>19998</th>\n",
              "      <td>3747760</td>\n",
              "      <td>1</td>\n",
              "      <td>119</td>\n",
              "      <td>0.989454</td>\n",
              "      <td>0.164909</td>\n",
              "      <td>29735</td>\n",
              "      <td>1661187500843</td>\n",
              "      <td>1</td>\n",
              "    </tr>\n",
              "    <tr>\n",
              "      <th>19999</th>\n",
              "      <td>3747760</td>\n",
              "      <td>0</td>\n",
              "      <td>119</td>\n",
              "      <td>1.000000</td>\n",
              "      <td>1.000000</td>\n",
              "      <td>29735</td>\n",
              "      <td>1661187583074</td>\n",
              "      <td>0</td>\n",
              "    </tr>\n",
              "  </tbody>\n",
              "</table>\n",
              "</div>"
            ],
            "text/plain": [
              "       session  action_reverse  session_length  log_recency_score  \\\n",
              "19980  3747760              19             119           0.808865   \n",
              "19981  3747760              18             119           0.818453   \n",
              "19982  3747760              17             119           0.828092   \n",
              "19983  3747760              16             119           0.837783   \n",
              "19984  3747760              15             119           0.847524   \n",
              "19985  3747760              14             119           0.857317   \n",
              "19986  3747760              13             119           0.867162   \n",
              "19987  3747760              12             119           0.877060   \n",
              "19988  3747760              11             119           0.887010   \n",
              "19989  3747760              10             119           0.897012   \n",
              "19990  3747760               9             119           0.907068   \n",
              "19991  3747760               8             119           0.917176   \n",
              "19992  3747760               7             119           0.927339   \n",
              "19993  3747760               6             119           0.937555   \n",
              "19994  3747760               5             119           0.947825   \n",
              "19995  3747760               4             119           0.958150   \n",
              "19996  3747760               3             119           0.968530   \n",
              "19997  3747760               2             119           0.978965   \n",
              "19998  3747760               1             119           0.989454   \n",
              "19999  3747760               0             119           1.000000   \n",
              "\n",
              "       type_weighted_log_recency_score     aid             ts  type  \n",
              "19980                         0.808865   29735  1660758692329     0  \n",
              "19981                         0.136409   29735  1660758699999     1  \n",
              "19982                         0.828092   29735  1660758746118     0  \n",
              "19983                         0.837783  310546  1660758780780     0  \n",
              "19984                         0.141254  310546  1660758839293     1  \n",
              "19985                         0.857317  823143  1660759391052     0  \n",
              "19986                         0.144527  823143  1660759398244     1  \n",
              "19987                         0.877060  823143  1660759421569     0  \n",
              "19988                         0.887010  310546  1660759479681     0  \n",
              "19989                         0.897012  493104  1660859048661     0  \n",
              "19990                         0.151178  493104  1660859055289     1  \n",
              "19991                         0.917176  493104  1660859089163     0  \n",
              "19992                         0.927339   29735  1660859103178     0  \n",
              "19993                         0.156259   29735  1660859110334     1  \n",
              "19994                         0.315942   29735  1660859150386     2  \n",
              "19995                         0.958150   29735  1660859207339     0  \n",
              "19996                         0.161422   29735  1660859222698     1  \n",
              "19997                         0.978965   29735  1661187445585     0  \n",
              "19998                         0.164909   29735  1661187500843     1  \n",
              "19999                         1.000000   29735  1661187583074     0  "
            ]
          },
          "execution_count": 9,
          "metadata": {},
          "output_type": "execute_result"
        }
      ],
      "source": [
        "train.tail(20)"
      ]
    },
    {
      "cell_type": "code",
      "execution_count": null,
      "metadata": {
        "id": "0Z7sHDYKcgQ6"
      },
      "outputs": [],
      "source": [
        "df_test_processed = data_test.map_partitions(process_partition, meta=meta)"
      ]
    },
    {
      "cell_type": "code",
      "execution_count": null,
      "metadata": {
        "id": "epitk0KJcgQ6",
        "outputId": "126eef3b-79a3-44ad-e110-b6eeaf05f1da"
      },
      "outputs": [
        {
          "data": {
            "text/html": [
              "<div>\n",
              "<style scoped>\n",
              "    .dataframe tbody tr th:only-of-type {\n",
              "        vertical-align: middle;\n",
              "    }\n",
              "\n",
              "    .dataframe tbody tr th {\n",
              "        vertical-align: top;\n",
              "    }\n",
              "\n",
              "    .dataframe thead th {\n",
              "        text-align: right;\n",
              "    }\n",
              "</style>\n",
              "<table border=\"1\" class=\"dataframe\">\n",
              "  <thead>\n",
              "    <tr style=\"text-align: right;\">\n",
              "      <th></th>\n",
              "      <th>session</th>\n",
              "      <th>action_reverse</th>\n",
              "      <th>session_length</th>\n",
              "      <th>log_recency_score</th>\n",
              "      <th>type_weighted_log_recency_score</th>\n",
              "      <th>aid</th>\n",
              "      <th>ts</th>\n",
              "      <th>type</th>\n",
              "    </tr>\n",
              "  </thead>\n",
              "  <tbody>\n",
              "    <tr>\n",
              "      <th>0</th>\n",
              "      <td>5899776</td>\n",
              "      <td>3</td>\n",
              "      <td>4</td>\n",
              "      <td>0.071773</td>\n",
              "      <td>0.071773</td>\n",
              "      <td>1489275</td>\n",
              "      <td>1660039772288</td>\n",
              "      <td>0</td>\n",
              "    </tr>\n",
              "    <tr>\n",
              "      <th>1</th>\n",
              "      <td>5899776</td>\n",
              "      <td>2</td>\n",
              "      <td>4</td>\n",
              "      <td>0.319508</td>\n",
              "      <td>0.319508</td>\n",
              "      <td>1826552</td>\n",
              "      <td>1660043110728</td>\n",
              "      <td>0</td>\n",
              "    </tr>\n",
              "    <tr>\n",
              "      <th>2</th>\n",
              "      <td>5899776</td>\n",
              "      <td>1</td>\n",
              "      <td>4</td>\n",
              "      <td>0.624505</td>\n",
              "      <td>0.624505</td>\n",
              "      <td>1632206</td>\n",
              "      <td>1660048043858</td>\n",
              "      <td>0</td>\n",
              "    </tr>\n",
              "    <tr>\n",
              "      <th>3</th>\n",
              "      <td>5899776</td>\n",
              "      <td>0</td>\n",
              "      <td>4</td>\n",
              "      <td>1.000000</td>\n",
              "      <td>1.000000</td>\n",
              "      <td>1531634</td>\n",
              "      <td>1660048104470</td>\n",
              "      <td>0</td>\n",
              "    </tr>\n",
              "    <tr>\n",
              "      <th>4</th>\n",
              "      <td>5899777</td>\n",
              "      <td>1</td>\n",
              "      <td>2</td>\n",
              "      <td>0.071773</td>\n",
              "      <td>0.071773</td>\n",
              "      <td>1086210</td>\n",
              "      <td>1660039772327</td>\n",
              "      <td>0</td>\n",
              "    </tr>\n",
              "  </tbody>\n",
              "</table>\n",
              "</div>"
            ],
            "text/plain": [
              "   session  action_reverse  session_length  log_recency_score  \\\n",
              "0  5899776               3               4           0.071773   \n",
              "1  5899776               2               4           0.319508   \n",
              "2  5899776               1               4           0.624505   \n",
              "3  5899776               0               4           1.000000   \n",
              "4  5899777               1               2           0.071773   \n",
              "\n",
              "   type_weighted_log_recency_score      aid             ts  type  \n",
              "0                         0.071773  1489275  1660039772288     0  \n",
              "1                         0.319508  1826552  1660043110728     0  \n",
              "2                         0.624505  1632206  1660048043858     0  \n",
              "3                         1.000000  1531634  1660048104470     0  \n",
              "4                         0.071773  1086210  1660039772327     0  "
            ]
          },
          "execution_count": 17,
          "metadata": {},
          "output_type": "execute_result"
        }
      ],
      "source": [
        "df_test_processed.head()"
      ]
    },
    {
      "cell_type": "code",
      "execution_count": null,
      "metadata": {
        "id": "NOsOCfp-cgQ7",
        "outputId": "6f1e7ead-b23f-491e-e362-eb57d81774bd"
      },
      "outputs": [
        {
          "name": "stdout",
          "output_type": "stream",
          "text": [
            "session                              int32\n",
            "action_reverse                       int32\n",
            "session_length                       int32\n",
            "log_recency_score                  float32\n",
            "type_weighted_log_recency_score    float32\n",
            "aid                                  int32\n",
            "ts                                   int32\n",
            "type                                  int8\n",
            "dtype: object\n"
          ]
        }
      ],
      "source": [
        "print(df_test_processed.dtypes)"
      ]
    },
    {
      "cell_type": "code",
      "execution_count": null,
      "metadata": {
        "id": "wgt8lMHjcgQ7"
      },
      "outputs": [],
      "source": [
        "import pyarrow as pa\n",
        "\n",
        "schema = pa.schema([\n",
        "    ('session',pa.int32()),\n",
        "    ('action_reverse', pa.int32()),\n",
        "    ('session_length',pa.int32()),\n",
        "    ('log_recency_score',pa.float32()),\n",
        "    ('type_weighted_log_recency_score',pa.float32()),\n",
        "    ('aid',pa.int32()),\n",
        "    ('ts',pa.int32()),\n",
        "    ('type',pa.int8())\n",
        "])"
      ]
    },
    {
      "cell_type": "code",
      "execution_count": null,
      "metadata": {
        "id": "v4jfeF8HcgQ8"
      },
      "outputs": [],
      "source": [
        "df_test_processed = df_test_processed.astype({\n",
        "    'session': 'int32',\n",
        "    'action_reverse': 'int32',\n",
        "    'session_length': 'int32',\n",
        "    'log_recency_score': 'float32',\n",
        "    'type_weighted_log_recency_score': 'float32',\n",
        "    'aid': 'int32',\n",
        "    'ts': 'int32',\n",
        "    'type': 'int8'\n",
        "})\n"
      ]
    },
    {
      "cell_type": "code",
      "execution_count": null,
      "metadata": {
        "id": "ER3fWjHtcgQ8"
      },
      "outputs": [],
      "source": [
        "df_test_processed.to_parquet('dataframe_test.parquet',engine='pyarrow',schema=schema)"
      ]
    },
    {
      "cell_type": "code",
      "execution_count": null,
      "metadata": {
        "id": "nnSZjvN-cgQ8"
      },
      "outputs": [],
      "source": [
        "test = dd.read_parquet('dataframe_test.parquet', blocksize='15MB')"
      ]
    },
    {
      "cell_type": "markdown",
      "metadata": {
        "id": "TfwpcblVcgQ9"
      },
      "source": [
        "# Ground truth"
      ]
    },
    {
      "cell_type": "code",
      "execution_count": 29,
      "metadata": {
        "id": "aVNJyzo2cgQ9",
        "outputId": "dabe664a-17a2-43bf-f95e-a5903a6649a4"
      },
      "outputs": [
        {
          "name": "stderr",
          "output_type": "stream",
          "text": [
            "c:\\Users\\eloua\\AppData\\Local\\Programs\\Python\\Python313\\Lib\\site-packages\\dask\\dataframe\\dask_expr\\_collection.py:4208: UserWarning: \n",
            "You did not provide metadata, so Dask is running your function on a small dataset to guess output types. It is possible that Dask will guess incorrectly.\n",
            "To provide an explicit output types or to silence this message, please provide the `meta=` keyword, as described in the map or apply function that you are using.\n",
            "  Before: .apply(func)\n",
            "  After:  .apply(func, meta=('type', 'float64'))\n",
            "\n",
            "  warnings.warn(meta_warning(meta))\n",
            "c:\\Users\\eloua\\AppData\\Local\\Programs\\Python\\Python313\\Lib\\site-packages\\dask\\dataframe\\multi.py:169: UserWarning: Merging dataframes with merge column data type mismatches: \n",
            "+------------------+------------+-------------+\n",
            "| Merge columns    | left dtype | right dtype |\n",
            "+------------------+------------+-------------+\n",
            "| ('type', 'type') | int8       | uint8       |\n",
            "+------------------+------------+-------------+\n",
            "Cast dtypes explicitly to avoid unexpected results.\n",
            "  warnings.warn(\n"
          ]
        }
      ],
      "source": [
        "type2id = {\"clicks\": 0, \"carts\": 1, \"orders\": 2}\n",
        "\n",
        "df_train_labels = labels.explode('ground_truth')\n",
        "\n",
        "df_train_labels['aid'] = df_train_labels['ground_truth']\n",
        "df_train_labels['type'] = df_train_labels['type'].map(type2id)\n",
        "df_train_labels = df_train_labels[['session', 'type', 'aid']]\n",
        "\n",
        "df_train_labels['session'] = df_train_labels['session'].astype('int32')\n",
        "df_train_labels['type'] = df_train_labels['type'].astype('uint8')\n",
        "df_train_labels['aid'] = df_train_labels['aid'].astype('int32')\n",
        "\n",
        "df_train_labels['gt'] = 1\n",
        "\n",
        "df_train = train.merge(df_train_labels, on=['session', 'type', 'aid'], how='left')\n",
        "\n",
        "df_train['gt'] = df_train['gt'].fillna(0).astype('uint8')\n",
        "\n",
        "#train.to_parquet('train_processed.parquet', write_index=False)"
      ]
    },
    {
      "cell_type": "code",
      "execution_count": 30,
      "metadata": {
        "id": "stgLlEHqcgQ9",
        "outputId": "ca47fd06-087a-4208-e895-caceb2365542"
      },
      "outputs": [
        {
          "data": {
            "text/html": [
              "<div>\n",
              "<style scoped>\n",
              "    .dataframe tbody tr th:only-of-type {\n",
              "        vertical-align: middle;\n",
              "    }\n",
              "\n",
              "    .dataframe tbody tr th {\n",
              "        vertical-align: top;\n",
              "    }\n",
              "\n",
              "    .dataframe thead th {\n",
              "        text-align: right;\n",
              "    }\n",
              "</style>\n",
              "<table border=\"1\" class=\"dataframe\">\n",
              "  <thead>\n",
              "    <tr style=\"text-align: right;\">\n",
              "      <th></th>\n",
              "      <th>session</th>\n",
              "      <th>action_reverse</th>\n",
              "      <th>session_length</th>\n",
              "      <th>log_recency_score</th>\n",
              "      <th>type_weighted_log_recency_score</th>\n",
              "      <th>aid</th>\n",
              "      <th>ts</th>\n",
              "      <th>type</th>\n",
              "      <th>gt</th>\n",
              "    </tr>\n",
              "  </thead>\n",
              "  <tbody>\n",
              "    <tr>\n",
              "      <th>0</th>\n",
              "      <td>5899776</td>\n",
              "      <td>3</td>\n",
              "      <td>4</td>\n",
              "      <td>0.071773</td>\n",
              "      <td>0.071773</td>\n",
              "      <td>1489275</td>\n",
              "      <td>1660039772288</td>\n",
              "      <td>0</td>\n",
              "      <td>0</td>\n",
              "    </tr>\n",
              "    <tr>\n",
              "      <th>1</th>\n",
              "      <td>5899776</td>\n",
              "      <td>2</td>\n",
              "      <td>4</td>\n",
              "      <td>0.319508</td>\n",
              "      <td>0.319508</td>\n",
              "      <td>1826552</td>\n",
              "      <td>1660043110728</td>\n",
              "      <td>0</td>\n",
              "      <td>0</td>\n",
              "    </tr>\n",
              "    <tr>\n",
              "      <th>2</th>\n",
              "      <td>5899776</td>\n",
              "      <td>1</td>\n",
              "      <td>4</td>\n",
              "      <td>0.624505</td>\n",
              "      <td>0.624505</td>\n",
              "      <td>1632206</td>\n",
              "      <td>1660048043858</td>\n",
              "      <td>0</td>\n",
              "      <td>0</td>\n",
              "    </tr>\n",
              "    <tr>\n",
              "      <th>3</th>\n",
              "      <td>5899776</td>\n",
              "      <td>0</td>\n",
              "      <td>4</td>\n",
              "      <td>1.000000</td>\n",
              "      <td>1.000000</td>\n",
              "      <td>1531634</td>\n",
              "      <td>1660048104470</td>\n",
              "      <td>0</td>\n",
              "      <td>0</td>\n",
              "    </tr>\n",
              "    <tr>\n",
              "      <th>4</th>\n",
              "      <td>5899777</td>\n",
              "      <td>1</td>\n",
              "      <td>2</td>\n",
              "      <td>0.071773</td>\n",
              "      <td>0.071773</td>\n",
              "      <td>1086210</td>\n",
              "      <td>1660039772327</td>\n",
              "      <td>0</td>\n",
              "      <td>0</td>\n",
              "    </tr>\n",
              "  </tbody>\n",
              "</table>\n",
              "</div>"
            ],
            "text/plain": [
              "   session  action_reverse  session_length  log_recency_score  \\\n",
              "0  5899776               3               4           0.071773   \n",
              "1  5899776               2               4           0.319508   \n",
              "2  5899776               1               4           0.624505   \n",
              "3  5899776               0               4           1.000000   \n",
              "4  5899777               1               2           0.071773   \n",
              "\n",
              "   type_weighted_log_recency_score      aid             ts  type  gt  \n",
              "0                         0.071773  1489275  1660039772288     0   0  \n",
              "1                         0.319508  1826552  1660043110728     0   0  \n",
              "2                         0.624505  1632206  1660048043858     0   0  \n",
              "3                         1.000000  1531634  1660048104470     0   0  \n",
              "4                         0.071773  1086210  1660039772327     0   0  "
            ]
          },
          "execution_count": 30,
          "metadata": {},
          "output_type": "execute_result"
        }
      ],
      "source": [
        "df_train.head()"
      ]
    },
    {
      "cell_type": "code",
      "execution_count": 31,
      "metadata": {
        "id": "D5bqVnkqcgQ-"
      },
      "outputs": [],
      "source": [
        "def get_session_lengths(df):\n",
        "    return df.groupby('session')['session'].count().compute().to_numpy()"
      ]
    },
    {
      "cell_type": "code",
      "execution_count": null,
      "metadata": {
        "id": "SghTAh4dcgQ-"
      },
      "outputs": [],
      "source": [
        "session_lengths_train = get_session_lengths(df_train)"
      ]
    },
    {
      "cell_type": "code",
      "execution_count": null,
      "metadata": {
        "id": "vsKxpVKTcgQ_",
        "outputId": "50a40759-1108-4bc4-b4a8-cfc2c366d59d"
      },
      "outputs": [
        {
          "data": {
            "text/plain": [
              "array([10, 39, 34, ...,  3, 12, 50], shape=(239072,))"
            ]
          },
          "execution_count": 13,
          "metadata": {},
          "output_type": "execute_result"
        }
      ],
      "source": [
        "session_lengths_train"
      ]
    },
    {
      "cell_type": "markdown",
      "metadata": {
        "id": "CW75sFjIcgQ_"
      },
      "source": [
        "# Model training"
      ]
    },
    {
      "cell_type": "code",
      "execution_count": null,
      "metadata": {
        "id": "3lz5lpYNcgQ_"
      },
      "outputs": [],
      "source": [
        "from lightgbm.sklearn import LGBMRanker"
      ]
    },
    {
      "cell_type": "code",
      "execution_count": null,
      "metadata": {
        "id": "PRVc1A-PcgRA"
      },
      "outputs": [],
      "source": [
        "ranker = LGBMRanker(\n",
        "    objective=\"lambdarank\",\n",
        "    metric=\"ndcg\",\n",
        "    boosting_type=\"dart\",\n",
        "    n_estimators=20,\n",
        "    importance_type='gain',\n",
        ")"
      ]
    },
    {
      "cell_type": "code",
      "execution_count": null,
      "metadata": {
        "id": "QZnGsZRrcgRA"
      },
      "outputs": [],
      "source": [
        "feature_cols = ['aid', 'type', 'action_reverse', 'session_length', 'log_recency_score', 'type_weighted_log_recency_score']\n",
        "target = 'gt'"
      ]
    },
    {
      "cell_type": "code",
      "execution_count": null,
      "metadata": {
        "id": "a8TzS6nBcgRL"
      },
      "outputs": [],
      "source": [
        "df_train_pd = df_train[feature_cols].compute()\n",
        "target_pd = df_train[target].compute()"
      ]
    },
    {
      "cell_type": "code",
      "execution_count": null,
      "metadata": {
        "id": "MulYl6tscgRM",
        "outputId": "9d3e1322-3c77-40f6-8969-e08bda7bdf4a"
      },
      "outputs": [
        {
          "name": "stdout",
          "output_type": "stream",
          "text": [
            "[LightGBM] [Info] Auto-choosing col-wise multi-threading, the overhead of testing was 0.336858 seconds.\n",
            "You can set `force_col_wise=true` to remove the overhead.\n",
            "[LightGBM] [Info] Total Bins 1278\n",
            "[LightGBM] [Info] Number of data points in the train set: 4140000, number of used features: 6\n"
          ]
        }
      ],
      "source": [
        "ranker = ranker.fit(\n",
        "    df_train_pd,\n",
        "    target_pd,\n",
        "    group=session_lengths_train,\n",
        ")"
      ]
    },
    {
      "cell_type": "code",
      "execution_count": null,
      "metadata": {
        "id": "2HQ-qJy6cgRM",
        "outputId": "e63096d6-1a4c-4e14-d7a6-b1805eb679a4"
      },
      "outputs": [
        {
          "data": {
            "text/plain": [
              "['lightgbm_ranker.pkl']"
            ]
          },
          "execution_count": 18,
          "metadata": {},
          "output_type": "execute_result"
        }
      ],
      "source": [
        "joblib.dump(ranker, \"lightgbm_ranker.pkl\")"
      ]
    },
    {
      "cell_type": "code",
      "execution_count": null,
      "metadata": {
        "id": "H_V2ieN9cgRN"
      },
      "outputs": [],
      "source": [
        "ranker = joblib.load(\"lightgbm_ranker.pkl\")"
      ]
    }
  ],
  "metadata": {
    "colab": {
      "provenance": []
    },
    "kernelspec": {
      "display_name": "Python 3",
      "name": "python3"
    },
    "language_info": {
      "codemirror_mode": {
        "name": "ipython",
        "version": 3
      },
      "file_extension": ".py",
      "mimetype": "text/x-python",
      "name": "python",
      "nbconvert_exporter": "python",
      "pygments_lexer": "ipython3",
      "version": "3.13.2"
    }
  },
  "nbformat": 4,
  "nbformat_minor": 0
}
